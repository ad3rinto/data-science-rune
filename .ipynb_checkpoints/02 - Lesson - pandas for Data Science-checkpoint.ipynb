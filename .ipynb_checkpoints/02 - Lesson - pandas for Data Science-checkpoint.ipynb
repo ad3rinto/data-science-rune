{
 "cells": [
  {
   "cell_type": "markdown",
   "id": "5e05fcb6",
   "metadata": {},
   "source": [
    "# pandas for Data Science"
   ]
  },
  {
   "cell_type": "markdown",
   "id": "4e7ccae0",
   "metadata": {},
   "source": [
    "![Data Science Workflow](img/ds-workflow.png)"
   ]
  },
  {
   "cell_type": "markdown",
   "id": "96e9f9b5",
   "metadata": {},
   "source": [
    "## pandas\n",
    "- When working with tabular data (spreadsheets, databases, etc) **pandas** is the right tool\n",
    "- **pandas** makes it easy to acquire, explore, clean, process, analyze, and visualize your data\n",
    "- This basically covers the full Data Science process"
   ]
  },
  {
   "cell_type": "markdown",
   "id": "79e640ca",
   "metadata": {},
   "source": [
    "## pandas help\n",
    "- **pandas** is a large tool but also complex\n",
    "- **pandas** can do (almost) everything with data\n",
    "    - if you can do it in Excel, you can do it in **pandas**\n",
    "- **pandas** has a great [Cheat Sheet](https://pandas.pydata.org/Pandas_Cheat_Sheet.pdf) to help you\n",
    "- **pandas** also has great [tutorials](https://pandas.pydata.org/docs/getting_started/index.html)"
   ]
  },
  {
   "cell_type": "markdown",
   "id": "b398f8b1",
   "metadata": {},
   "source": [
    "## What will we cover here?\n",
    "- Some insights into **DataFrames** (the main datastructure in **pandas**)\n",
    "- How to work with data"
   ]
  },
  {
   "cell_type": "markdown",
   "id": "ad409e9b",
   "metadata": {},
   "source": [
    "## This course also covers\n",
    "- Later we will dive into how **pandas** can get data from various sources\n",
    "    - Web Scraping, Databases, CSV, Parquet, Excel files\n",
    "- How to combine data from different sources\n",
    "- How to deal with missing data"
   ]
  },
  {
   "cell_type": "markdown",
   "id": "19862fd2",
   "metadata": {},
   "source": [
    "## Getting started with pandas\n",
    "- **pandas** is installed by default in anaconda (JuPyter Notebooks)\n",
    "- In other environments you can install it with\n",
    "    - ```pip install pandas```\n",
    "- To access **pandas** you need to import it\n",
    "    - ```import pandas as pd```"
   ]
  },
  {
   "cell_type": "code",
   "execution_count": 1,
   "id": "4a1e9c13",
   "metadata": {},
   "outputs": [],
   "source": [
    "import pandas as pd"
   ]
  },
  {
   "cell_type": "markdown",
   "id": "8ab16529",
   "metadata": {},
   "source": [
    "### What is pandas?\n",
    "- **pandas** is like an Excel sheet - just better\n",
    "- to learn pandas, let's play with some data"
   ]
  },
  {
   "cell_type": "markdown",
   "id": "a42cc090",
   "metadata": {},
   "source": [
    "### Read data from CSV\n",
    "- What is CSV? See this lecture ([Lecture on CSV](https://youtu.be/LEyojSOg4EI))\n",
    "- ```pd.read_csv(filename, parse_dates, index_col)``` ([docs](https://pandas.pydata.org/docs/reference/api/pandas.read_csv.html))\n",
    "    - ```filename```: The path to the filename\n",
    "    - ```parse_dates=True```: If True -> try parsing the index (default False)\n",
    "    - ```index_col=0```: Set the index to be column 0"
   ]
  },
  {
   "cell_type": "code",
   "execution_count": null,
   "id": "115c1eb3",
   "metadata": {},
   "outputs": [],
   "source": []
  },
  {
   "cell_type": "code",
   "execution_count": null,
   "id": "f65f2b2e",
   "metadata": {},
   "outputs": [],
   "source": []
  },
  {
   "cell_type": "markdown",
   "id": "7133a464",
   "metadata": {},
   "source": [
    "### Always check data\n",
    "- The ```.head()```: prints the first 5 columns"
   ]
  },
  {
   "cell_type": "code",
   "execution_count": null,
   "id": "9cd27b76",
   "metadata": {},
   "outputs": [],
   "source": []
  },
  {
   "cell_type": "code",
   "execution_count": null,
   "id": "0a8d023a",
   "metadata": {},
   "outputs": [],
   "source": []
  },
  {
   "cell_type": "markdown",
   "id": "a36c7fb7",
   "metadata": {},
   "source": [
    "## Index and columns\n",
    "- ```.index```: Returns the index\n",
    "- ```.columns```: Returns the column names in a list"
   ]
  },
  {
   "cell_type": "code",
   "execution_count": null,
   "id": "382ea11f",
   "metadata": {},
   "outputs": [],
   "source": []
  },
  {
   "cell_type": "code",
   "execution_count": null,
   "id": "253f66b0",
   "metadata": {},
   "outputs": [],
   "source": []
  },
  {
   "cell_type": "markdown",
   "id": "ccef5fd1",
   "metadata": {},
   "source": [
    "## Each column has a data type\n",
    "- ```.dtypes```: Returns the data types of each column"
   ]
  },
  {
   "cell_type": "code",
   "execution_count": null,
   "id": "56020da4",
   "metadata": {},
   "outputs": [],
   "source": []
  },
  {
   "cell_type": "code",
   "execution_count": null,
   "id": "86f37684",
   "metadata": {},
   "outputs": [],
   "source": []
  },
  {
   "cell_type": "markdown",
   "id": "d968baea",
   "metadata": {},
   "source": [
    "## The size and shape of data\n",
    "- ```len(data)```: gives the number of rows in the DataFrame\n",
    "- ```.shape```: Returns the number of rows and columns in the DataFrame"
   ]
  },
  {
   "cell_type": "code",
   "execution_count": null,
   "id": "117a7c11",
   "metadata": {},
   "outputs": [],
   "source": []
  },
  {
   "cell_type": "code",
   "execution_count": null,
   "id": "9ce67694",
   "metadata": {},
   "outputs": [],
   "source": []
  },
  {
   "cell_type": "markdown",
   "id": "3efce186",
   "metadata": {},
   "source": [
    "## Slicing rows and columns\n",
    "- ```data['Close']```: Select one column (Series)\n",
    "- ```data[['Open', 'Close']]```: Select multiple columns with specific names\n",
    "- ```data.loc['2020-05-01':'2021-05-01']```: Select all columns between the dates (including 2021-05-01)\n",
    "- ```data.iloc[50:55]```: Select all columns between rows 50-55 (excluding 55)"
   ]
  },
  {
   "cell_type": "code",
   "execution_count": null,
   "id": "4b74ebcb",
   "metadata": {},
   "outputs": [],
   "source": []
  },
  {
   "cell_type": "code",
   "execution_count": null,
   "id": "f8fceb23",
   "metadata": {},
   "outputs": [],
   "source": []
  },
  {
   "cell_type": "code",
   "execution_count": null,
   "id": "a99f6465",
   "metadata": {},
   "outputs": [],
   "source": []
  },
  {
   "cell_type": "code",
   "execution_count": null,
   "id": "3e139d5a",
   "metadata": {},
   "outputs": [],
   "source": []
  },
  {
   "cell_type": "code",
   "execution_count": null,
   "id": "2610632d",
   "metadata": {},
   "outputs": [],
   "source": []
  },
  {
   "cell_type": "markdown",
   "id": "89aa38df",
   "metadata": {},
   "source": [
    "## Arithmetic operations\n",
    "- Calculating with columns on all rows\n",
    "    - Example: ```data['Close'] - data['Open']```\n",
    "- Creating new columns\n",
    "    - Example: ```data['New'] = data['Open'] - data['Close']```"
   ]
  },
  {
   "cell_type": "code",
   "execution_count": null,
   "id": "9bcaa94e",
   "metadata": {},
   "outputs": [],
   "source": []
  },
  {
   "cell_type": "code",
   "execution_count": null,
   "id": "2b02c415",
   "metadata": {},
   "outputs": [],
   "source": []
  },
  {
   "cell_type": "code",
   "execution_count": null,
   "id": "258217b1",
   "metadata": {},
   "outputs": [],
   "source": []
  },
  {
   "cell_type": "code",
   "execution_count": null,
   "id": "53c38697",
   "metadata": {},
   "outputs": [],
   "source": []
  },
  {
   "cell_type": "markdown",
   "id": "ed584388",
   "metadata": {},
   "source": [
    "## Select data\n",
    "- Select data based boolean expressions\n",
    "    - Example: ```data['New'] > 0```\n",
    "    - Example: ```data[data['New'] > 0]```"
   ]
  },
  {
   "cell_type": "code",
   "execution_count": null,
   "id": "c2b740f9",
   "metadata": {},
   "outputs": [],
   "source": []
  },
  {
   "cell_type": "code",
   "execution_count": null,
   "id": "9081925e",
   "metadata": {},
   "outputs": [],
   "source": []
  },
  {
   "cell_type": "code",
   "execution_count": null,
   "id": "ee4cf1ec",
   "metadata": {},
   "outputs": [],
   "source": []
  },
  {
   "cell_type": "markdown",
   "id": "8782b68e",
   "metadata": {},
   "source": [
    "## Groupby and value_counts\n",
    "- Example\n",
    "```Python\n",
    "data['Category'] = data['New'] > 0\n",
    "data.groupby('Category').mean()\n",
    "```\n",
    "- Example\n",
    "```Python\n",
    "data['Category'].value_counts()\n",
    "(data['New'] > 0).value_counts()\n",
    "```"
   ]
  },
  {
   "cell_type": "code",
   "execution_count": null,
   "id": "ba0ac9fa",
   "metadata": {},
   "outputs": [],
   "source": []
  },
  {
   "cell_type": "code",
   "execution_count": null,
   "id": "fb3a35cf",
   "metadata": {},
   "outputs": [],
   "source": []
  },
  {
   "cell_type": "code",
   "execution_count": null,
   "id": "e492ddf6",
   "metadata": {},
   "outputs": [],
   "source": []
  },
  {
   "cell_type": "code",
   "execution_count": null,
   "id": "94a580cc",
   "metadata": {},
   "outputs": [],
   "source": []
  },
  {
   "cell_type": "code",
   "execution_count": null,
   "id": "988298bc",
   "metadata": {},
   "outputs": [],
   "source": []
  }
 ],
 "metadata": {
  "kernelspec": {
   "display_name": "Python 3 (ipykernel)",
   "language": "python",
   "name": "python3"
  },
  "language_info": {
   "codemirror_mode": {
    "name": "ipython",
    "version": 3
   },
   "file_extension": ".py",
   "mimetype": "text/x-python",
   "name": "python",
   "nbconvert_exporter": "python",
   "pygments_lexer": "ipython3",
   "version": "3.9.12"
  }
 },
 "nbformat": 4,
 "nbformat_minor": 5
}
