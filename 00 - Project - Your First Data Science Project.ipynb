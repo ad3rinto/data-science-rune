{
 "cells": [
  {
   "cell_type": "markdown",
   "id": "837554ae",
   "metadata": {},
   "source": [
    "# Project - Guide school to activities to improve G3 grades"
   ]
  },
  {
   "cell_type": "markdown",
   "id": "f64580d7",
   "metadata": {},
   "source": [
    "![Data Science Workflow](img/ds-workflow.png)"
   ]
  },
  {
   "cell_type": "markdown",
   "id": "7524422c",
   "metadata": {},
   "source": [
    "## Goal of Project\n",
    "- Explore the dataset from lesson further\n",
    "- Follow the Data Science process to understand it better\n",
    "- It will be your task to identify possible activies to improve G3 grades\n",
    "- NOTE: We have very limited skills, hence, we must limit our ambitions in our analysis"
   ]
  },
  {
   "cell_type": "markdown",
   "id": "17134954",
   "metadata": {},
   "source": [
    "## Step 1: Acquire\n",
    "- Explore problem\n",
    "- Identify data\n",
    "- Import data"
   ]
  },
  {
   "cell_type": "markdown",
   "id": "30bf6278",
   "metadata": {},
   "source": [
    "### Step 1.a: Import libraries\n",
    "- Execute the cell below (SHIFT + ENTER)"
   ]
  },
  {
   "cell_type": "code",
   "execution_count": null,
   "id": "d787beb5",
   "metadata": {},
   "outputs": [],
   "source": []
  },
  {
   "cell_type": "markdown",
   "id": "10f05487",
   "metadata": {},
   "source": [
    "### Step 1.b: Read the data\n",
    "- Use ```pd.read_csv()``` to read the file `files/student-mat.csv`\n",
    "- NOTE: Remember to assign the result to a variable (e.g., ```data```)"
   ]
  },
  {
   "cell_type": "code",
   "execution_count": null,
   "id": "d01011fd",
   "metadata": {},
   "outputs": [],
   "source": []
  },
  {
   "cell_type": "markdown",
   "id": "65ba503a",
   "metadata": {},
   "source": [
    "### Step 1.c: Inspect the data\n",
    "- Call ```.head()``` on the data to see all is as expected"
   ]
  },
  {
   "cell_type": "code",
   "execution_count": null,
   "id": "8b74e6ff",
   "metadata": {},
   "outputs": [],
   "source": []
  },
  {
   "cell_type": "markdown",
   "id": "8cadc020",
   "metadata": {},
   "source": [
    "### Step 1.d: Check length of data\n",
    "- Call ```len(...)``` on the data\n",
    "- Result: There should be 395 rows of data"
   ]
  },
  {
   "cell_type": "code",
   "execution_count": null,
   "id": "9c2f6aca",
   "metadata": {},
   "outputs": [],
   "source": []
  },
  {
   "cell_type": "markdown",
   "id": "eb0eac44",
   "metadata": {},
   "source": [
    "## Step 2: Prepare\n",
    "- Explore data\n",
    "- Visualize ideas\n",
    "- Cleaning data"
   ]
  },
  {
   "cell_type": "markdown",
   "id": "089d3e83",
   "metadata": {},
   "source": [
    "### Notice\n",
    "- We will not cover visualization in this lecture\n",
    "- We also know, that the data is clean - but we will do validations here anyway"
   ]
  },
  {
   "cell_type": "markdown",
   "id": "db6ae1f9",
   "metadata": {},
   "source": [
    "### Step 2.a: Check the data types\n",
    "- This step tells you if some numeric column is not represented numeric.\n",
    "- Get the data types by ```.dtypes```"
   ]
  },
  {
   "cell_type": "code",
   "execution_count": null,
   "id": "0783a18d",
   "metadata": {},
   "outputs": [],
   "source": []
  },
  {
   "cell_type": "markdown",
   "id": "040a49d6",
   "metadata": {},
   "source": [
    "### Step 2.b: Check for null (missing) values\n",
    "- Data often is missing entries - there can be many reasons for this\n",
    "- We need to deal with that (will do later in course)\n",
    "- Use ```.isnull().any()```"
   ]
  },
  {
   "cell_type": "code",
   "execution_count": null,
   "id": "43ba9b72",
   "metadata": {},
   "outputs": [],
   "source": []
  },
  {
   "cell_type": "markdown",
   "id": "c3165816",
   "metadata": {},
   "source": [
    "## Step 3: Analyze\n",
    "- Feature selection\n",
    "- Model selection\n",
    "- Analyze data"
   ]
  },
  {
   "cell_type": "markdown",
   "id": "6422b3c0",
   "metadata": {},
   "source": [
    "### Description\n",
    "- Want to find 3 features to use in our report\n",
    "- The 3 features should be selected based on\n",
    "    - Actionable insights\n",
    "    - Convey credibility in report\n",
    "    - What is realistic within possibilities (including a budget)"
   ]
  },
  {
   "cell_type": "markdown",
   "id": "7b6e6e5e",
   "metadata": {},
   "source": [
    "### Note\n",
    "- This step is where you can explore\n",
    "- You know how to use the following:\n",
    "    - **corr()** to find see correlation\n",
    "    - **groupby()** with **mean()**, **count()**, or **std()**\n",
    "- This should be used for step 4: Report"
   ]
  },
  {
   "cell_type": "markdown",
   "id": "00eb0407",
   "metadata": {},
   "source": [
    "### Step 3.a: Investigate correlation\n",
    "- Correlation is an easy measure to find insights that are actionable.\n",
    "- Use **corr()** and only show **G3**, as that is the row we are interested in.\n",
    "    - Notice: **G1** and **G2** are highly correlated, but they are not intented to be used"
   ]
  },
  {
   "cell_type": "code",
   "execution_count": null,
   "id": "4457bcfa",
   "metadata": {},
   "outputs": [],
   "source": []
  },
  {
   "cell_type": "markdown",
   "id": "a8eab491",
   "metadata": {},
   "source": [
    "### Step 3.b: Get the Feature names\n",
    "- This step can help you understand features better.\n",
    "- All the features are availbale witb **.columns** applied on the **DataFrame**"
   ]
  },
  {
   "cell_type": "code",
   "execution_count": null,
   "id": "f5099bd8",
   "metadata": {},
   "outputs": [],
   "source": []
  },
  {
   "cell_type": "markdown",
   "id": "77ec5a6d",
   "metadata": {},
   "source": [
    "### Step 3.c: Investigate features\n",
    "**Repeat this step** (possibly for all features)\n",
    "- Select a features\n",
    "- Calculate the **groupby(...)** **mean()** on **G3**\n",
    "    - HINT: This was done in the lesson\n",
    "- Calculate the **groupby(...)** **count()** on **G3**\n",
    "- Calculate the **groupby(...)** **std()** on **G3**"
   ]
  },
  {
   "cell_type": "code",
   "execution_count": null,
   "id": "2b773b06",
   "metadata": {},
   "outputs": [],
   "source": []
  },
  {
   "cell_type": "code",
   "execution_count": null,
   "id": "4688fc9c",
   "metadata": {},
   "outputs": [],
   "source": []
  },
  {
   "cell_type": "code",
   "execution_count": null,
   "id": "bf7c5dab",
   "metadata": {},
   "outputs": [],
   "source": []
  },
  {
   "cell_type": "markdown",
   "id": "a25d5bb9",
   "metadata": {},
   "source": [
    "### Step 3.d Select 3 features\n",
    "- Decide on 3 features to use in the report\n",
    "- The decision should be based on\n",
    "    - Actionable insights\n",
    "    - Convey credibility in report\n",
    "    - What is realistic within possibilities (including a budget)"
   ]
  },
  {
   "cell_type": "code",
   "execution_count": null,
   "id": "bd00abde",
   "metadata": {},
   "outputs": [],
   "source": []
  },
  {
   "cell_type": "code",
   "execution_count": null,
   "id": "4ac4faca",
   "metadata": {},
   "outputs": [],
   "source": []
  },
  {
   "cell_type": "markdown",
   "id": "28d82546",
   "metadata": {},
   "source": [
    "## Step 4: Report\n",
    "- Present findings\n",
    "- Visualize results\n",
    "- Credibility counts"
   ]
  },
  {
   "cell_type": "markdown",
   "id": "eb11258b",
   "metadata": {},
   "source": [
    "### Description\n",
    "- With the 3 features from step 3 create a presentation\n",
    "- As we have not learned visualization yet, keep it simple\n",
    "- Remember, that credibility counts"
   ]
  },
  {
   "cell_type": "markdown",
   "id": "aab7c48e",
   "metadata": {},
   "source": [
    "### Notice\n",
    "- At this stage it is not supposed to be perfect.\n",
    "- Present the findings here in the Notebook"
   ]
  },
  {
   "cell_type": "code",
   "execution_count": null,
   "id": "a9a33915",
   "metadata": {},
   "outputs": [],
   "source": []
  },
  {
   "cell_type": "code",
   "execution_count": null,
   "id": "e733c91b",
   "metadata": {},
   "outputs": [],
   "source": []
  },
  {
   "cell_type": "markdown",
   "id": "28ff4186",
   "metadata": {},
   "source": [
    "## Step 5: Actions\n",
    "- Use insights\n",
    "- Measure impact\n",
    "- Main goal"
   ]
  },
  {
   "cell_type": "markdown",
   "id": "2034861f",
   "metadata": {},
   "source": [
    "### Description\n",
    "- What actions should the schools take?\n",
    "- How can they evaluate the impact?\n",
    "- Remember, this is the main goal."
   ]
  },
  {
   "cell_type": "code",
   "execution_count": null,
   "id": "aefb6e6f",
   "metadata": {},
   "outputs": [],
   "source": []
  },
  {
   "cell_type": "code",
   "execution_count": null,
   "id": "ce870b5b",
   "metadata": {},
   "outputs": [],
   "source": []
  }
 ],
 "metadata": {
  "kernelspec": {
   "display_name": "Python 3 (ipykernel)",
   "language": "python",
   "name": "python3"
  },
  "language_info": {
   "codemirror_mode": {
    "name": "ipython",
    "version": 3
   },
   "file_extension": ".py",
   "mimetype": "text/x-python",
   "name": "python",
   "nbconvert_exporter": "python",
   "pygments_lexer": "ipython3",
   "version": "3.9.9"
  }
 },
 "nbformat": 4,
 "nbformat_minor": 5
}
