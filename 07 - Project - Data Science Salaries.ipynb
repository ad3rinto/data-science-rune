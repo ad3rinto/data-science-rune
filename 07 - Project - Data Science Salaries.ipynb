{
 "cells": [
  {
   "cell_type": "markdown",
   "id": "39c877c9",
   "metadata": {},
   "source": [
    "# Project - Data Science Salaries"
   ]
  },
  {
   "cell_type": "markdown",
   "id": "26869a35",
   "metadata": {},
   "source": [
    "![Data Science Workflow](img/ds-workflow.png)"
   ]
  },
  {
   "cell_type": "markdown",
   "id": "525fb9c6",
   "metadata": {},
   "source": [
    "## Goal of project\n",
    "- The goal of this project is to present insightful statistics of Data Science Salaries\n",
    "- The local newspaper (or online site) want to write an article on how lucrative it is to be Data Science"
   ]
  },
  {
   "cell_type": "markdown",
   "id": "77f362c4",
   "metadata": {},
   "source": [
    "## Step 1: Acquire\n",
    "- Explore problem\n",
    "- Identify data\n",
    "- Import data"
   ]
  },
  {
   "cell_type": "markdown",
   "id": "6f8cbbcb",
   "metadata": {},
   "source": [
    "### Step 1.a: Import libraries\n",
    "- Execute the cell below (SHIFT + ENTER)"
   ]
  },
  {
   "cell_type": "code",
   "execution_count": null,
   "id": "64a86f68",
   "metadata": {},
   "outputs": [],
   "source": []
  },
  {
   "cell_type": "markdown",
   "id": "b5f9a799",
   "metadata": {},
   "source": [
    "### Step 1.b: Read the data\n",
    "- Use ```pd.read_csv()``` to read the file `files/data_science_salaries.csv`\n",
    "- NOTE: Remember to assign the result to a variable (e.g., ```data```)\n",
    "- Apply ```.head()``` on the data to see all is as expected\n",
    "- Dataset is from **Kaggle** (Get updated dataset [here](https://www.kaggle.com/saurabhshahane/data-science-jobs-salaries))"
   ]
  },
  {
   "cell_type": "code",
   "execution_count": null,
   "id": "76f2806a",
   "metadata": {},
   "outputs": [],
   "source": []
  },
  {
   "cell_type": "code",
   "execution_count": null,
   "id": "e2b16778",
   "metadata": {},
   "outputs": [],
   "source": []
  },
  {
   "cell_type": "markdown",
   "id": "a2377dd7",
   "metadata": {},
   "source": [
    "### Step 1.c: Inspect the data\n",
    "- Check the size of the dataset\n",
    "- Can you make conclusions based on it?"
   ]
  },
  {
   "cell_type": "code",
   "execution_count": null,
   "id": "ee7ac231",
   "metadata": {},
   "outputs": [],
   "source": []
  },
  {
   "cell_type": "markdown",
   "id": "3bec949d",
   "metadata": {},
   "source": [
    "## Step 2: Prepare\n",
    "- Explore data\n",
    "- Visualize ideas\n",
    "- Cleaning data"
   ]
  },
  {
   "cell_type": "markdown",
   "id": "6a5d948d",
   "metadata": {},
   "source": [
    "### Step 2.a: Check the data types\n",
    "- This step tells you if some numeric column is not represented numeric.\n",
    "- Get the data types by ```.dtypes```"
   ]
  },
  {
   "cell_type": "code",
   "execution_count": null,
   "id": "6772944b",
   "metadata": {},
   "outputs": [],
   "source": []
  },
  {
   "cell_type": "markdown",
   "id": "2867789a",
   "metadata": {},
   "source": [
    "### Step 2.b: Check for null (missing) values\n",
    "- Data often is missing entries - there can be many reasons for this\n",
    "- We need to deal with that (will do later in course)\n",
    "- Use ```.isnull().any()```"
   ]
  },
  {
   "cell_type": "code",
   "execution_count": null,
   "id": "17d92330",
   "metadata": {},
   "outputs": [],
   "source": []
  },
  {
   "cell_type": "markdown",
   "id": "137fdfde",
   "metadata": {},
   "source": [
    "### Step 2.c: Understand features\n",
    "- Most features has categories\n",
    "- A way to categorize them is by using `data['work_year'].unique()`\n",
    "- Similar for the other categories. Example:\n",
    "    - `experience_level`: \n",
    "        - EN: Entry-level / Junior\n",
    "        - MI: Mid-level / Intermediate\n",
    "        - SE: Senior-level / Expert\n",
    "        - EX: Executive-level / Director\n",
    "- See full description on [Kaggle](https://www.kaggle.com/saurabhshahane/data-science-jobs-salaries)"
   ]
  },
  {
   "cell_type": "code",
   "execution_count": null,
   "id": "f2bfa495",
   "metadata": {},
   "outputs": [],
   "source": []
  },
  {
   "cell_type": "code",
   "execution_count": null,
   "id": "d5233628",
   "metadata": {},
   "outputs": [],
   "source": []
  },
  {
   "cell_type": "code",
   "execution_count": null,
   "id": "69d064aa",
   "metadata": {},
   "outputs": [],
   "source": []
  },
  {
   "cell_type": "markdown",
   "id": "2408a701",
   "metadata": {},
   "source": [
    "### Step 2.d: Salaries\n",
    "- Notice that salaries are given in different currencies\n",
    "- Also, notice `salary_in_usd`"
   ]
  },
  {
   "cell_type": "code",
   "execution_count": null,
   "id": "2357bcf5",
   "metadata": {},
   "outputs": [],
   "source": []
  },
  {
   "cell_type": "markdown",
   "id": "8cc1cabe",
   "metadata": {},
   "source": [
    "## Step 3: Analyze\n",
    "- Feature selection\n",
    "- Model selection\n",
    "- Analyze data"
   ]
  },
  {
   "cell_type": "markdown",
   "id": "b039bb8b",
   "metadata": {},
   "source": [
    "### Step 3.a: Explore features\n",
    "- One way to explore features is as follows (here we explore `experience_level`)\n",
    "```Python\n",
    "data.groupby('experience_level')['salary_in_usd'].describe()\n",
    "```\n",
    "- Explore other features"
   ]
  },
  {
   "cell_type": "code",
   "execution_count": null,
   "id": "1e27b890",
   "metadata": {},
   "outputs": [],
   "source": []
  },
  {
   "cell_type": "code",
   "execution_count": null,
   "id": "8a44fe14",
   "metadata": {},
   "outputs": [],
   "source": []
  },
  {
   "cell_type": "markdown",
   "id": "14de33c4",
   "metadata": {},
   "source": [
    "### Step 3.b: Explore data on two columns\n",
    "- Say you want to investigate two columns: `experience_level` and `company_size`\n",
    "```Python\n",
    "data.groupby(['experience_level', 'company_size'])['salary_in_usd'].mean()\n",
    "```\n",
    "- Try similar for other combinations"
   ]
  },
  {
   "cell_type": "code",
   "execution_count": null,
   "id": "fbeeeb3e",
   "metadata": {},
   "outputs": [],
   "source": []
  },
  {
   "cell_type": "markdown",
   "id": "6ed6cef0",
   "metadata": {},
   "source": [
    "### Step 3.c: Describe data on two columns\n",
    "- How does the spread look like.\n",
    "- Can we conclude anything based on data\n",
    "```Python\n",
    "data.groupby(['company_size', 'experience_level'])['salary_in_usd'].describe()\n",
    "```"
   ]
  },
  {
   "cell_type": "code",
   "execution_count": null,
   "id": "579047ff",
   "metadata": {},
   "outputs": [],
   "source": []
  },
  {
   "cell_type": "markdown",
   "id": "2a825783",
   "metadata": {},
   "source": [
    "### Step 3.d: Visualize the description\n",
    "- What does this tell you\n",
    "```Python\n",
    "data.boxplot(column='salary_in_usd', by='company_size')\n",
    "```\n",
    "- Do this for other features of your interest"
   ]
  },
  {
   "cell_type": "code",
   "execution_count": null,
   "id": "76da495f",
   "metadata": {},
   "outputs": [],
   "source": []
  },
  {
   "cell_type": "code",
   "execution_count": null,
   "id": "ad8878c4",
   "metadata": {},
   "outputs": [],
   "source": []
  },
  {
   "cell_type": "markdown",
   "id": "98a71ee2",
   "metadata": {},
   "source": [
    "## Step 4: Report\n",
    "- Present findings\n",
    "- Visualize results\n",
    "- Credibility counts"
   ]
  },
  {
   "cell_type": "markdown",
   "id": "1e08b1e1",
   "metadata": {},
   "source": [
    "### Step 4.a: Present your findings\n",
    "- Here we focus on `company_size` and `experience_level`\n",
    "- Create a data frame for the data to plot.\n",
    "    - This makes easy to re-order index and column\n",
    "- Notice: Do it for the features you want to present\n",
    "```Python\n",
    "data.groupby(['company_size', 'experience_level'])['salary_in_usd'].mean().unstack()\n",
    "```\n",
    "- [unstack()](https://pandas.pydata.org/docs/reference/api/pandas.DataFrame.unstack.html) unstacks multiindex"
   ]
  },
  {
   "cell_type": "code",
   "execution_count": null,
   "id": "a4894e19",
   "metadata": {},
   "outputs": [],
   "source": []
  },
  {
   "cell_type": "code",
   "execution_count": null,
   "id": "d7991aab",
   "metadata": {},
   "outputs": [],
   "source": []
  },
  {
   "cell_type": "markdown",
   "id": "b7feb05f",
   "metadata": {},
   "source": [
    "### Step 4.b: Re-order index and columns\n",
    "- We do this to present data in a logical way\n",
    "- Use `reindex(index=['S', 'M', 'L'])` (assuming the same example)\n",
    "- Re-order columns simply by filtering with `['EN', 'MI', 'SE', 'EX']`"
   ]
  },
  {
   "cell_type": "code",
   "execution_count": null,
   "id": "b22097c9",
   "metadata": {},
   "outputs": [],
   "source": []
  },
  {
   "cell_type": "markdown",
   "id": "f06a7e31",
   "metadata": {},
   "source": [
    "### Step 4.c: Visualize results\n",
    "- Visualize your result with a bar-plot\n",
    "    - HINT: `plot.bar()`\n",
    "- Finalize with title and labels"
   ]
  },
  {
   "cell_type": "code",
   "execution_count": null,
   "id": "1db44eff",
   "metadata": {},
   "outputs": [],
   "source": []
  },
  {
   "cell_type": "markdown",
   "id": "ea044f89",
   "metadata": {},
   "source": [
    "### Step 4.d: Credability considerations\n",
    "- With the insights we have from our analysis - could we tell another story?\n",
    "- Examples:\n",
    "    - Spread of salary\n",
    "    - Outliers\n",
    "    - Size of dataset and categories used"
   ]
  },
  {
   "cell_type": "code",
   "execution_count": null,
   "id": "6a856ce0",
   "metadata": {},
   "outputs": [],
   "source": []
  },
  {
   "cell_type": "code",
   "execution_count": null,
   "id": "fc867828",
   "metadata": {},
   "outputs": [],
   "source": []
  },
  {
   "cell_type": "markdown",
   "id": "65c865f1",
   "metadata": {},
   "source": [
    "## Step 5: Actions\n",
    "- Use insights\n",
    "- Measure impact\n",
    "- Main goal"
   ]
  },
  {
   "cell_type": "markdown",
   "id": "c11a5357",
   "metadata": {},
   "source": [
    "### Step 5.a:\n",
    "- How could we use insights?\n",
    "- How to measure it?"
   ]
  },
  {
   "cell_type": "code",
   "execution_count": null,
   "id": "7d5db0ab",
   "metadata": {},
   "outputs": [],
   "source": []
  }
 ],
 "metadata": {
  "kernelspec": {
   "display_name": "Python 3 (ipykernel)",
   "language": "python",
   "name": "python3"
  },
  "language_info": {
   "codemirror_mode": {
    "name": "ipython",
    "version": 3
   },
   "file_extension": ".py",
   "mimetype": "text/x-python",
   "name": "python",
   "nbconvert_exporter": "python",
   "pygments_lexer": "ipython3",
   "version": "3.9.10"
  }
 },
 "nbformat": 4,
 "nbformat_minor": 5
}
