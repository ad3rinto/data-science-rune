{
 "cells": [
  {
   "cell_type": "markdown",
   "id": "39c877c9",
   "metadata": {},
   "source": [
    "# Project - Statistical Performance Indicators (SPI)"
   ]
  },
  {
   "cell_type": "markdown",
   "id": "26869a35",
   "metadata": {},
   "source": [
    "![Data Science Workflow](img/ds-workflow.png)"
   ]
  },
  {
   "cell_type": "markdown",
   "id": "27e88ef1",
   "metadata": {},
   "source": [
    "## Goal of Project\n",
    "- What can Statistical Performance Indicators (SPI) tells us?\n",
    "- Investigate regional SPI score\n",
    "- SPI correlation with GDP per capita"
   ]
  },
  {
   "cell_type": "markdown",
   "id": "77f362c4",
   "metadata": {},
   "source": [
    "## Step 1: Acquire\n",
    "- Explore problem\n",
    "- Identify data\n",
    "- Import data"
   ]
  },
  {
   "cell_type": "markdown",
   "id": "c4592cb1",
   "metadata": {},
   "source": [
    "### Step 1.a: Explore the problem\n",
    "- [Read about the SPI on World Bank](https://www.worldbank.org/en/programs/statistical-performance-indicators/about-spi)\n",
    "    - The SPI measure the capacity and maturity of national statistical systems by assessing the use of data, the quality of services, the coverage of topics, the sources of information, and the infrastructure and availability of resources.\n",
    "    - The goal is to improve development outcomes and track progress toward the Sustainable Development Goals.\n",
    "- Could there be regional differences on SPI?\n",
    "- Do we expect SPI to be correlated to GDP per capita?"
   ]
  },
  {
   "cell_type": "code",
   "execution_count": null,
   "id": "bcf6c050",
   "metadata": {},
   "outputs": [],
   "source": []
  },
  {
   "cell_type": "markdown",
   "id": "1ed32ef6",
   "metadata": {},
   "source": [
    "### Step 1.b: Identify and download data\n",
    "- The World bank has data for SPI and GDP per capita\n",
    "    - The data is downloaded already, but you can find it here:\n",
    "        - [SPI](https://data.worldbank.org/indicator/IQ.SPI.OVRL)\n",
    "        - [GDP per capita](https://data.worldbank.org/indicator/NY.GDP.PCAP.CD)"
   ]
  },
  {
   "cell_type": "code",
   "execution_count": null,
   "id": "2113729e",
   "metadata": {},
   "outputs": [],
   "source": []
  },
  {
   "cell_type": "markdown",
   "id": "6f8cbbcb",
   "metadata": {},
   "source": [
    "### Step 1.c: Import libraries\n",
    "- Execute the cell below (SHIFT + ENTER)"
   ]
  },
  {
   "cell_type": "code",
   "execution_count": null,
   "id": "baf45728",
   "metadata": {},
   "outputs": [],
   "source": []
  },
  {
   "cell_type": "markdown",
   "id": "b5f9a799",
   "metadata": {},
   "source": [
    "### Step 1.d: Read SPI data\n",
    "- Use ```pd.read_csv()``` to read the files \n",
    "    - `files/SPI/API_IQ.SPI.OVRL_DS2_en_csv_v2_3186678.csv`\n",
    "    - `files/SPI/Metadata_Country_API_IQ.SPI.OVRL_DS2_en_csv_v2_3186678.csv`\n",
    "    - `files/SPI/API_NY.GDP.PCAP.CD_DS2_en_csv_v2_3159040.csv`\n",
    "- NOTE: you might need to skip rows in some CSV files (`skiprows=4`)\n",
    "- NOTE: Remember to assign the results to variables (e.g., `spi`, `meta`, `gdp`)\n",
    "- Apply ```.head()``` on the data to see all is as expected"
   ]
  },
  {
   "cell_type": "code",
   "execution_count": null,
   "id": "aed078f9",
   "metadata": {},
   "outputs": [],
   "source": []
  },
  {
   "cell_type": "markdown",
   "id": "a2377dd7",
   "metadata": {},
   "source": [
    "### Step 1.e: Inspect the data\n",
    "- Check the data is as expected\n",
    "- HINT: use `.head()` on the DataFrames"
   ]
  },
  {
   "cell_type": "code",
   "execution_count": null,
   "id": "20bfb645",
   "metadata": {},
   "outputs": [],
   "source": []
  },
  {
   "cell_type": "code",
   "execution_count": null,
   "id": "de553a1b",
   "metadata": {},
   "outputs": [],
   "source": []
  },
  {
   "cell_type": "code",
   "execution_count": null,
   "id": "2107d4e3",
   "metadata": {},
   "outputs": [],
   "source": []
  },
  {
   "cell_type": "markdown",
   "id": "3bec949d",
   "metadata": {},
   "source": [
    "## Step 2: Prepare\n",
    "- Explore data\n",
    "- Visualize ideas\n",
    "- Cleaning data"
   ]
  },
  {
   "cell_type": "markdown",
   "id": "39cdb186",
   "metadata": {},
   "source": [
    "### Step 2.a: Remove columns\n",
    "- We will only focus on 2019 from `spi` and `gdp`\n",
    "- Only keep `Country Code`, `2019` from `spi` and `gdp`\n",
    "- On `meta` keep `Country Code` and `Region`"
   ]
  },
  {
   "cell_type": "code",
   "execution_count": null,
   "id": "0cf4e75f",
   "metadata": {},
   "outputs": [],
   "source": []
  },
  {
   "cell_type": "markdown",
   "id": "2867789a",
   "metadata": {},
   "source": [
    "### Step 2.b: Check for null (missing) values\n",
    "- Data often is missing entries - there can be many reasons for this\n",
    "- Use `len()` on DataFrame and on DataFrames where `dropna` is applied."
   ]
  },
  {
   "cell_type": "code",
   "execution_count": null,
   "id": "54273b81",
   "metadata": {},
   "outputs": [],
   "source": []
  },
  {
   "cell_type": "code",
   "execution_count": null,
   "id": "6fd13335",
   "metadata": {},
   "outputs": [],
   "source": []
  },
  {
   "cell_type": "markdown",
   "id": "874a4889",
   "metadata": {},
   "source": [
    "### Step 2.c: Drop rows\n",
    "- Use `dropna()` on `spi` and `gdp` to remove missing data"
   ]
  },
  {
   "cell_type": "code",
   "execution_count": null,
   "id": "31f0df90",
   "metadata": {},
   "outputs": [],
   "source": []
  },
  {
   "cell_type": "code",
   "execution_count": null,
   "id": "4ced9cb0",
   "metadata": {},
   "outputs": [],
   "source": []
  },
  {
   "cell_type": "code",
   "execution_count": null,
   "id": "4c8dd6ae",
   "metadata": {},
   "outputs": [],
   "source": []
  },
  {
   "cell_type": "markdown",
   "id": "56d29cda",
   "metadata": {},
   "source": [
    "### Step 2.d: Rename columns\n",
    "- We need to rename `2019` columns appropriate\n",
    "- Rename `2019` to `SPI` in `spi`\n",
    "    - HINT: Use `.rename(columns={'2019': 'SPI'})`\n",
    "- Rename `2019` to `GDP per capita` in `gdp`"
   ]
  },
  {
   "cell_type": "code",
   "execution_count": null,
   "id": "2347f141",
   "metadata": {},
   "outputs": [],
   "source": []
  },
  {
   "cell_type": "code",
   "execution_count": null,
   "id": "380b4781",
   "metadata": {},
   "outputs": [],
   "source": []
  },
  {
   "cell_type": "code",
   "execution_count": null,
   "id": "d735df32",
   "metadata": {},
   "outputs": [],
   "source": []
  },
  {
   "cell_type": "markdown",
   "id": "6250564e",
   "metadata": {},
   "source": [
    "### Step 2.e: Merge data\n",
    "- Use `merge` on `spi` with `gdp`\n",
    "    - HINT: `spi.merge(gdp, how='inner', on='Country Code')`\n",
    "    - HINT: Assign result to a new DataFrame (e.g., `dataset`)\n",
    "- Use `merge` on `dataset` with `meta`\n",
    "- Investigae length and head"
   ]
  },
  {
   "cell_type": "code",
   "execution_count": null,
   "id": "a8aa5f73",
   "metadata": {},
   "outputs": [],
   "source": []
  },
  {
   "cell_type": "code",
   "execution_count": null,
   "id": "2af7a009",
   "metadata": {},
   "outputs": [],
   "source": []
  },
  {
   "cell_type": "markdown",
   "id": "8cc1cabe",
   "metadata": {},
   "source": [
    "## Step 3: Analyze\n",
    "- Feature selection\n",
    "- Model selection\n",
    "- Analyze data"
   ]
  },
  {
   "cell_type": "markdown",
   "id": "137fdfde",
   "metadata": {},
   "source": [
    "### Step 3.a: Visualize regional SPI\n",
    "- Use `groupby(.)` on `Region` with `mean()`\n",
    "- Create a bar plot on the mean SPI value"
   ]
  },
  {
   "cell_type": "code",
   "execution_count": null,
   "id": "02cd1683",
   "metadata": {},
   "outputs": [],
   "source": []
  },
  {
   "cell_type": "markdown",
   "id": "b7a03792",
   "metadata": {},
   "source": [
    "### Step 3.b: Scatter plot SPI and GDP\n",
    "- Create a scatter plot of `GDP per capita` on x-axis and `SPI` on y-axis.\n",
    "- Try with logarithmic scale (add `logx=True` as argument."
   ]
  },
  {
   "cell_type": "code",
   "execution_count": null,
   "id": "f168a0f7",
   "metadata": {},
   "outputs": [],
   "source": []
  },
  {
   "cell_type": "code",
   "execution_count": null,
   "id": "4a0a6979",
   "metadata": {},
   "outputs": [],
   "source": []
  },
  {
   "cell_type": "markdown",
   "id": "98a71ee2",
   "metadata": {},
   "source": [
    "## Step 4: Report\n",
    "- Present findings\n",
    "- Visualize results\n",
    "- Credibility counts"
   ]
  },
  {
   "cell_type": "markdown",
   "id": "7b2afa44",
   "metadata": {},
   "source": [
    "### Step 4.a: Sort and make horizontal bar plot\n",
    "- This will get you started in creating a plot\n",
    "- Take the regional plot and sort it.\n",
    "    - HINT: use `.sort_values(ascending=False)`\n",
    "- Make the plot horizontal\n",
    "    - HINT: use `.plot.barh()`\n",
    "- Experiement further to find the plot you like"
   ]
  },
  {
   "cell_type": "code",
   "execution_count": null,
   "id": "ab611812",
   "metadata": {},
   "outputs": [],
   "source": []
  },
  {
   "cell_type": "markdown",
   "id": "a4e5de0c",
   "metadata": {},
   "source": [
    "### Step 4.b: Add colors to regional plot\n",
    "- Create a series of the colors based on the regional categories.\n",
    "    - HINT: Use `factorize()` and assign the first index ([docs](https://pandas.pydata.org/docs/reference/api/pandas.factorize.html)).\n",
    "- Make a color mapping in the scatter plot\n",
    "    - HINT: Use argument `c=colors` (assuming you assigned the factorize result to `colors`\n",
    "- Try to change color maps\n",
    "    - HINT: Use `cmap='tab10'` (see other color maps in [docs](https://matplotlib.org/stable/tutorials/colors/colormaps.html))\n",
    "- Play around until you get the plot you like"
   ]
  },
  {
   "cell_type": "code",
   "execution_count": null,
   "id": "1444520c",
   "metadata": {},
   "outputs": [],
   "source": []
  },
  {
   "cell_type": "markdown",
   "id": "65c865f1",
   "metadata": {},
   "source": [
    "## Step 5: Actions\n",
    "- Use insights\n",
    "- Measure impact\n",
    "- Main goal"
   ]
  },
  {
   "cell_type": "markdown",
   "id": "010b3fce",
   "metadata": {},
   "source": [
    "### Step 5.a: Insights\n",
    "- Any insights?\n",
    "- Actions we need to do?\n",
    "- How to measure it?"
   ]
  },
  {
   "cell_type": "code",
   "execution_count": null,
   "id": "00287901",
   "metadata": {},
   "outputs": [],
   "source": []
  }
 ],
 "metadata": {
  "kernelspec": {
   "display_name": "Python 3 (ipykernel)",
   "language": "python",
   "name": "python3"
  },
  "language_info": {
   "codemirror_mode": {
    "name": "ipython",
    "version": 3
   },
   "file_extension": ".py",
   "mimetype": "text/x-python",
   "name": "python",
   "nbconvert_exporter": "python",
   "pygments_lexer": "ipython3",
   "version": "3.9.10"
  }
 },
 "nbformat": 4,
 "nbformat_minor": 5
}
