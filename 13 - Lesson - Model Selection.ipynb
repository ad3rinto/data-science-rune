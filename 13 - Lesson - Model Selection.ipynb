{
 "cells": [
  {
   "cell_type": "markdown",
   "id": "d16e7964",
   "metadata": {},
   "source": [
    "# Model Selection"
   ]
  },
  {
   "cell_type": "markdown",
   "id": "b67fa815",
   "metadata": {},
   "source": [
    "![Data Science Workflow](img/ds-workflow.png)"
   ]
  },
  {
   "cell_type": "markdown",
   "id": "4c8bc9ed",
   "metadata": {},
   "source": [
    "## Model Selection\n",
    "- The process of selecting the model among a collection of candidates machine learning models\n",
    "\n",
    "### Problem type\n",
    "- What kind of problem are you looking into?\n",
    "    - **Classification**: *Predict labels on data with predefined classes*\n",
    "        - Supervised Machine Learning\n",
    "    - **Clustering**: *Identify similarieties between objects and group them in clusters*\n",
    "        - Unsupervised Machine Learning\n",
    "    - **Regression**: *Predict continuous values*\n",
    "        - Supervised Machine Learning\n",
    "- Resource: [Sklearn cheat sheet](https://scikit-learn.org/stable/tutorial/machine_learning_map/index.html)"
   ]
  },
  {
   "cell_type": "markdown",
   "id": "3396b523",
   "metadata": {},
   "source": [
    "### What is the \"best\" model?\n",
    "- All models have some **predictive error**\n",
    "- We should seek a model that is *good enough*"
   ]
  },
  {
   "cell_type": "markdown",
   "id": "a82943de",
   "metadata": {},
   "source": [
    "### Model Selection Techniques\n",
    "- **Probabilistic Measures**: Scoring by performance and complexity of model.\n",
    "- **Resampling Methods**: Splitting in sub-train and sub-test datasets and scoring by mean values of repeated runs."
   ]
  },
  {
   "cell_type": "code",
   "execution_count": null,
   "id": "5493dc21",
   "metadata": {},
   "outputs": [],
   "source": []
  },
  {
   "cell_type": "code",
   "execution_count": null,
   "id": "cbd4b68c",
   "metadata": {},
   "outputs": [],
   "source": []
  },
  {
   "cell_type": "code",
   "execution_count": null,
   "id": "53a2f8fa",
   "metadata": {},
   "outputs": [],
   "source": []
  },
  {
   "cell_type": "code",
   "execution_count": null,
   "id": "92bbe085",
   "metadata": {},
   "outputs": [],
   "source": []
  },
  {
   "cell_type": "markdown",
   "id": "80f29dac",
   "metadata": {},
   "source": [
    "### Converting to Categories\n",
    "- [`cut()`](https://pandas.pydata.org/docs/reference/api/pandas.cut.html) Bin values into discrete intervals.\n",
    "    - Data in bins based on data distribution.\n",
    "- [`qcut()`](https://pandas.pydata.org/docs/reference/api/pandas.qcut.html) Quantile-based discretization function.\n",
    "    - Data in equal size bins"
   ]
  },
  {
   "cell_type": "markdown",
   "id": "c5f55186",
   "metadata": {},
   "source": [
    "#### Invstigation\n",
    "- Figure out why `cut` is not suitable for 3 bins here."
   ]
  },
  {
   "cell_type": "code",
   "execution_count": null,
   "id": "738b125e",
   "metadata": {},
   "outputs": [],
   "source": []
  },
  {
   "cell_type": "code",
   "execution_count": null,
   "id": "650665b0",
   "metadata": {},
   "outputs": [],
   "source": []
  },
  {
   "cell_type": "code",
   "execution_count": null,
   "id": "e43017a0",
   "metadata": {},
   "outputs": [],
   "source": []
  },
  {
   "cell_type": "code",
   "execution_count": null,
   "id": "84751663",
   "metadata": {},
   "outputs": [],
   "source": []
  },
  {
   "cell_type": "code",
   "execution_count": null,
   "id": "56a81666",
   "metadata": {},
   "outputs": [],
   "source": []
  },
  {
   "cell_type": "code",
   "execution_count": null,
   "id": "0d2baddb",
   "metadata": {},
   "outputs": [],
   "source": []
  },
  {
   "cell_type": "code",
   "execution_count": null,
   "id": "f1421b66",
   "metadata": {},
   "outputs": [],
   "source": []
  },
  {
   "cell_type": "code",
   "execution_count": null,
   "id": "17eb1b7f",
   "metadata": {},
   "outputs": [],
   "source": []
  },
  {
   "cell_type": "code",
   "execution_count": null,
   "id": "e7249580",
   "metadata": {},
   "outputs": [],
   "source": []
  },
  {
   "cell_type": "code",
   "execution_count": null,
   "id": "3bcd9754",
   "metadata": {},
   "outputs": [],
   "source": []
  },
  {
   "cell_type": "code",
   "execution_count": null,
   "id": "e9e5462f",
   "metadata": {},
   "outputs": [],
   "source": []
  }
 ],
 "metadata": {
  "kernelspec": {
   "display_name": "Python 3 (ipykernel)",
   "language": "python",
   "name": "python3"
  },
  "language_info": {
   "codemirror_mode": {
    "name": "ipython",
    "version": 3
   },
   "file_extension": ".py",
   "mimetype": "text/x-python",
   "name": "python",
   "nbconvert_exporter": "python",
   "pygments_lexer": "ipython3",
   "version": "3.8.8"
  }
 },
 "nbformat": 4,
 "nbformat_minor": 5
}
