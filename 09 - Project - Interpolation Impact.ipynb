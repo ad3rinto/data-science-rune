{
 "cells": [
  {
   "cell_type": "markdown",
   "id": "39c877c9",
   "metadata": {},
   "source": [
    "# Project - Measure Interpolation Impact"
   ]
  },
  {
   "cell_type": "markdown",
   "id": "26869a35",
   "metadata": {},
   "source": [
    "![Data Science Workflow](img/ds-workflow.png)"
   ]
  },
  {
   "cell_type": "markdown",
   "id": "07fd08f8",
   "metadata": {},
   "source": [
    "## Goal of Project\n",
    "- The goal of the project is to see how big impact interpolation can have on results.\n",
    "- The focus is mainly on step 2.\n",
    "- To see the impact we will make simple model usages.\n",
    "- The project will not go into details of steps 3 to 5."
   ]
  },
  {
   "cell_type": "markdown",
   "id": "77f362c4",
   "metadata": {},
   "source": [
    "## Step 1: Acquire\n",
    "- Explore problem\n",
    "- Identify data\n",
    "- Import data"
   ]
  },
  {
   "cell_type": "markdown",
   "id": "6f8cbbcb",
   "metadata": {},
   "source": [
    "### Step 1.a: Import libraries\n",
    "- Execute the cell below (SHIFT + ENTER)"
   ]
  },
  {
   "cell_type": "code",
   "execution_count": null,
   "id": "b1663203",
   "metadata": {},
   "outputs": [],
   "source": []
  },
  {
   "cell_type": "markdown",
   "id": "b5f9a799",
   "metadata": {},
   "source": [
    "### Step 1.b: Read the data\n",
    "- Use ```pd.read_parquet()``` to read the file `files/weather-predict.parquet`\n",
    "- NOTE: Remember to assign the result to a variable (e.g., ```data```)\n",
    "- Apply ```.head()``` on the data to see all is as expected"
   ]
  },
  {
   "cell_type": "code",
   "execution_count": null,
   "id": "8df39d7c",
   "metadata": {},
   "outputs": [],
   "source": []
  },
  {
   "cell_type": "code",
   "execution_count": null,
   "id": "73e3038f",
   "metadata": {},
   "outputs": [],
   "source": []
  },
  {
   "cell_type": "code",
   "execution_count": null,
   "id": "3e880dcf",
   "metadata": {},
   "outputs": [],
   "source": []
  },
  {
   "cell_type": "markdown",
   "id": "3bec949d",
   "metadata": {},
   "source": [
    "## Step 2: Prepare\n",
    "- Explore data\n",
    "- Visualize ideas\n",
    "- Cleaning data"
   ]
  },
  {
   "cell_type": "markdown",
   "id": "6a5d948d",
   "metadata": {},
   "source": [
    "### Step 2.a: Check the data types\n",
    "- This step tells you if some numeric column is not represented numeric.\n",
    "- Get the data types by ```.dtypes```"
   ]
  },
  {
   "cell_type": "code",
   "execution_count": null,
   "id": "58498943",
   "metadata": {},
   "outputs": [],
   "source": []
  },
  {
   "cell_type": "markdown",
   "id": "a1279c8b",
   "metadata": {},
   "source": [
    "### Step 2.b: Check the length, null-values, and zero values\n",
    "- Check the length\n",
    "    - HINT: Use `len()`\n",
    "- Check the number of null-values\n",
    "    - HINT: Use `.isna().sum()`\n",
    "- Check the number of zero-values\n",
    "    - HINT: Use `(data == 0).sum()`"
   ]
  },
  {
   "cell_type": "code",
   "execution_count": null,
   "id": "26f51f73",
   "metadata": {},
   "outputs": [],
   "source": []
  },
  {
   "cell_type": "code",
   "execution_count": null,
   "id": "6cd27429",
   "metadata": {},
   "outputs": [],
   "source": []
  },
  {
   "cell_type": "code",
   "execution_count": null,
   "id": "bc66ba8d",
   "metadata": {},
   "outputs": [],
   "source": []
  },
  {
   "cell_type": "markdown",
   "id": "4a8c0dd5",
   "metadata": {},
   "source": [
    "### Step 2.c: Baseline\n",
    "- Check the correlation to have a measure if we did nothing\n",
    "    - HINT: Use `corr()`"
   ]
  },
  {
   "cell_type": "code",
   "execution_count": null,
   "id": "da60d8ff",
   "metadata": {},
   "outputs": [],
   "source": []
  },
  {
   "cell_type": "markdown",
   "id": "31e0f5b7",
   "metadata": {},
   "source": [
    "### Step 2.d: Prepare data\n",
    "- We know `Pressure+24` has NaN and 0 values.\n",
    "- These are not correct values and we cannot use them in our model.\n",
    "- Create a `dataset` without these rows.\n",
    "    - HINT: Use filters like `data[data['Pressure+24h'] != 0]` and `dropna()`"
   ]
  },
  {
   "cell_type": "code",
   "execution_count": null,
   "id": "a69306c0",
   "metadata": {},
   "outputs": [],
   "source": []
  },
  {
   "cell_type": "markdown",
   "id": "d9b9ed0a",
   "metadata": {},
   "source": [
    "### Step 2.e: Check the size and zero values\n",
    "- Check the size of datasets `data` and `datasets`\n",
    "- Check how many zero-values each dataset has"
   ]
  },
  {
   "cell_type": "code",
   "execution_count": null,
   "id": "56f9742c",
   "metadata": {},
   "outputs": [],
   "source": []
  },
  {
   "cell_type": "markdown",
   "id": "6418c7fd",
   "metadata": {},
   "source": [
    "### Step 2.f: Check the correlation\n",
    "- For fun check the correlation of `dataset`\n",
    "- Then do the same after you interpolated 0 values\n",
    "    - HINT: Apply `replace` and `interpolate`\n",
    "- Does the result surprice you?\n",
    "- Notice how much interpolation improves the result"
   ]
  },
  {
   "cell_type": "code",
   "execution_count": null,
   "id": "168fb7c1",
   "metadata": {},
   "outputs": [],
   "source": []
  },
  {
   "cell_type": "code",
   "execution_count": null,
   "id": "038e178d",
   "metadata": {},
   "outputs": [],
   "source": []
  },
  {
   "cell_type": "markdown",
   "id": "0db0631e",
   "metadata": {},
   "source": [
    "### Step 2.g: Linear Regression Function\n",
    "- Create function `regression_score` to calculate the r-square score\n",
    "- It should take independent features X and dependent feature y\n",
    "- Then split that into training and testing sets.\n",
    "- Fit the training set.\n",
    "- Predict the test set.\n",
    "- Return the r-square score"
   ]
  },
  {
   "cell_type": "code",
   "execution_count": null,
   "id": "c4f4d05f",
   "metadata": {},
   "outputs": [],
   "source": []
  },
  {
   "cell_type": "markdown",
   "id": "5d608e81",
   "metadata": {},
   "source": [
    "### Step 2.h: Test baseline\n",
    "- Test the `regression_score` function on `dataset`"
   ]
  },
  {
   "cell_type": "code",
   "execution_count": null,
   "id": "5c40b440",
   "metadata": {},
   "outputs": [],
   "source": []
  },
  {
   "cell_type": "markdown",
   "id": "cf6f27ff",
   "metadata": {},
   "source": [
    "### Step 2.i: Test on interploated dataset\n",
    "- Make a interpolated dataset\n",
    "- Get the result (from `regression_score`) for interpolated dataset"
   ]
  },
  {
   "cell_type": "code",
   "execution_count": null,
   "id": "c197a667",
   "metadata": {},
   "outputs": [],
   "source": []
  }
 ],
 "metadata": {
  "kernelspec": {
   "display_name": "Python 3 (ipykernel)",
   "language": "python",
   "name": "python3"
  },
  "language_info": {
   "codemirror_mode": {
    "name": "ipython",
    "version": 3
   },
   "file_extension": ".py",
   "mimetype": "text/x-python",
   "name": "python",
   "nbconvert_exporter": "python",
   "pygments_lexer": "ipython3",
   "version": "3.9.10"
  }
 },
 "nbformat": 4,
 "nbformat_minor": 5
}
