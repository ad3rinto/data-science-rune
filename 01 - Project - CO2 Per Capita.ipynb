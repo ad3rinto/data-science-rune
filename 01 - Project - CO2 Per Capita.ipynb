{
 "cells": [
  {
   "cell_type": "markdown",
   "id": "39c877c9",
   "metadata": {},
   "source": [
    "# Project - CO2 Per Capita"
   ]
  },
  {
   "cell_type": "markdown",
   "id": "26869a35",
   "metadata": {},
   "source": [
    "![Data Science Workflow](img/ds-workflow.png)"
   ]
  },
  {
   "cell_type": "markdown",
   "id": "d0e1870e",
   "metadata": {},
   "source": [
    "## Goal of Project\n",
    "- Explore how Data Visualization can help present findings with a message\n",
    "- We will explore the CO2 per capita dataset\n",
    "- It will be your task to what kind of message you want the receiver to get\n",
    "- NOTE: We still have limited skills, hence, we must limit our ambitions in our analysis"
   ]
  },
  {
   "cell_type": "markdown",
   "id": "77f362c4",
   "metadata": {},
   "source": [
    "## Step 1: Acquire\n",
    "- Explore problem\n",
    "- Identify data\n",
    "- Import data"
   ]
  },
  {
   "cell_type": "markdown",
   "id": "6f8cbbcb",
   "metadata": {},
   "source": [
    "### Step 1.a: Import libraries\n",
    "- Execute the cell below (SHIFT + ENTER)"
   ]
  },
  {
   "cell_type": "code",
   "execution_count": null,
   "id": "49843a0f",
   "metadata": {},
   "outputs": [],
   "source": []
  },
  {
   "cell_type": "markdown",
   "id": "b5f9a799",
   "metadata": {},
   "source": [
    "### Step 1.b: Read the data\n",
    "- Use ```pd.read_csv()``` to read the file `files/WorldBank-ATM.CO2E.PC_DS2.csv`\n",
    "- NOTE: Remember to assign the result to a variable (e.g., ```data```)\n",
    "- NOTE: Use ```index_col=0``` as argument to set the index column.\n",
    "- Apply ```.head()``` on the data to see all is as expected"
   ]
  },
  {
   "cell_type": "code",
   "execution_count": null,
   "id": "5878b863",
   "metadata": {},
   "outputs": [],
   "source": []
  },
  {
   "cell_type": "markdown",
   "id": "a2377dd7",
   "metadata": {},
   "source": [
    "### Step 1.c: Size of data\n",
    "- The columns represent countries and rows years\n",
    "- Apply ```.shape``` on the DataFrame to see if data is as expected"
   ]
  },
  {
   "cell_type": "code",
   "execution_count": null,
   "id": "31337240",
   "metadata": {},
   "outputs": [],
   "source": []
  },
  {
   "cell_type": "markdown",
   "id": "3bec949d",
   "metadata": {},
   "source": [
    "## Step 2: Prepare\n",
    "- Explore data\n",
    "- Visualize ideas\n",
    "- Cleaning data"
   ]
  },
  {
   "cell_type": "markdown",
   "id": "6a5d948d",
   "metadata": {},
   "source": [
    "### Step 2.a: Check the data types\n",
    "- This step tells you if some numeric column is not represented numeric.\n",
    "- Get the data types by ```.dtypes```\n",
    "- We expect all data to numeric\n",
    "- Try out ```.info()``` to get an overview."
   ]
  },
  {
   "cell_type": "code",
   "execution_count": null,
   "id": "78e9ef32",
   "metadata": {},
   "outputs": [],
   "source": []
  },
  {
   "cell_type": "code",
   "execution_count": null,
   "id": "1f5df31e",
   "metadata": {},
   "outputs": [],
   "source": []
  },
  {
   "cell_type": "markdown",
   "id": "2867789a",
   "metadata": {},
   "source": [
    "### Step 2.b: Check for null (missing) values\n",
    "- Data often is missing entries - there can be many reasons for this\n",
    "- We need to deal with that (will do later in course)\n",
    "- Use ```.isnull().any()```\n",
    "- This is expected - but we need to be aware of it"
   ]
  },
  {
   "cell_type": "code",
   "execution_count": null,
   "id": "4d1b0678",
   "metadata": {},
   "outputs": [],
   "source": []
  },
  {
   "cell_type": "code",
   "execution_count": null,
   "id": "974ce0db",
   "metadata": {},
   "outputs": [],
   "source": []
  },
  {
   "cell_type": "markdown",
   "id": "137fdfde",
   "metadata": {},
   "source": [
    "### Step 2.c: Visualize number of missing data points\n",
    "- To get an idea of the maginitude of the problem you can visualize the number of missing rows for each country.\n",
    "- ```.isnull()``` identifies missing values\n",
    "- ```.isnull().sum()``` counts the number of missing values per country\n",
    "- ```.isnull().sum().plot.hist()``` plots how many countries have missing values in ranges"
   ]
  },
  {
   "cell_type": "code",
   "execution_count": null,
   "id": "82a0d1b7",
   "metadata": {},
   "outputs": [],
   "source": []
  },
  {
   "cell_type": "markdown",
   "id": "149707e4",
   "metadata": {},
   "source": [
    "### Step 2.d: Clean data\n",
    "- A simple way to clean data is to remove columns with missing data\n",
    "- Use ```.dropna(axis='columns')``` to remove columns with missing data\n",
    "- Check how may columns are left\n",
    "    - HINT: apply ```len(...)``` on the DataFrame columns"
   ]
  },
  {
   "cell_type": "code",
   "execution_count": null,
   "id": "d82ded0c",
   "metadata": {},
   "outputs": [],
   "source": []
  },
  {
   "cell_type": "code",
   "execution_count": null,
   "id": "5072419e",
   "metadata": {},
   "outputs": [],
   "source": []
  },
  {
   "cell_type": "markdown",
   "id": "8cc1cabe",
   "metadata": {},
   "source": [
    "## Step 3: Analyze\n",
    "- Feature selection\n",
    "- Model selection\n",
    "- Analyze data"
   ]
  },
  {
   "cell_type": "markdown",
   "id": "a3430e77",
   "metadata": {},
   "source": [
    "### Step 3.a: Percentage change 20 years\n",
    "- Calculate the change in CO2 per capita from 1998 to 2018\n",
    "    - HINT: Formula is (value in 2018 - value in 1998) / value in 1998\n",
    "    - This can be calculated on all rows simultaneously\n",
    "        - ```(data_clean.loc[2018] - data_clean.loc[1998])/data_clean.loc[1998]``` Assuming the data is in ```data_clean```"
   ]
  },
  {
   "cell_type": "code",
   "execution_count": null,
   "id": "7c4dfece",
   "metadata": {},
   "outputs": [],
   "source": []
  },
  {
   "cell_type": "markdown",
   "id": "97ccf3b7",
   "metadata": {},
   "source": [
    "### Step 3.b: Describe the data \n",
    "- A great way to understand data is to apply ```.describe()```\n",
    "- How does this help you to understand data?"
   ]
  },
  {
   "cell_type": "code",
   "execution_count": null,
   "id": "e405cbc0",
   "metadata": {},
   "outputs": [],
   "source": []
  },
  {
   "cell_type": "markdown",
   "id": "0a3163e0",
   "metadata": {},
   "source": [
    "### Step 3.c: Visualization of data\n",
    "- This helps you to understand data better\n",
    "- We start with a histogram ```.plot.hist(bins=30)```\n",
    "- Try with a Pie Chart on values below 0\n",
    "    - HINT: Use ```(data_plot < 0).value_counts()``` (assuming data is in ```data_plot```)\n",
    "    - Chart: ```.plot.pie(colors=['r', 'g'], labels=['>= 0', '< 0'], title='Title', ylabel='label', autopct='%1.1f%%')```\n",
    "- Play around with other visualizations"
   ]
  },
  {
   "cell_type": "code",
   "execution_count": null,
   "id": "6cd47bb1",
   "metadata": {},
   "outputs": [],
   "source": []
  },
  {
   "cell_type": "code",
   "execution_count": null,
   "id": "bb804c77",
   "metadata": {},
   "outputs": [],
   "source": []
  },
  {
   "cell_type": "code",
   "execution_count": null,
   "id": "4c92cd50",
   "metadata": {},
   "outputs": [],
   "source": []
  },
  {
   "cell_type": "markdown",
   "id": "98a71ee2",
   "metadata": {},
   "source": [
    "## Step 4: Report\n",
    "- Present findings\n",
    "- Visualize results\n",
    "- Credibility counts"
   ]
  },
  {
   "cell_type": "markdown",
   "id": "ff2079f3",
   "metadata": {},
   "source": [
    "### Step 4.a: Present a chart\n",
    "- The goal here is to present your message\n",
    "- Visualize one chart\n",
    "- Add a headline (title) to give the audience a message"
   ]
  },
  {
   "cell_type": "code",
   "execution_count": null,
   "id": "5ed32d2b",
   "metadata": {},
   "outputs": [],
   "source": []
  },
  {
   "cell_type": "markdown",
   "id": "dc73e667",
   "metadata": {},
   "source": [
    "### Step 4.b (Optional): Present another chart\n",
    "- Can you make a supporting chart?\n",
    "- Or dig deeper into the data?\n",
    "- Does this give a true picture of the situation?\n",
    "- Ideas:\n",
    "    - Look at the last 10 years\n",
    "    - Are many countris close 0"
   ]
  },
  {
   "cell_type": "code",
   "execution_count": null,
   "id": "4ffd1481",
   "metadata": {},
   "outputs": [],
   "source": []
  },
  {
   "cell_type": "code",
   "execution_count": null,
   "id": "99b68599",
   "metadata": {},
   "outputs": [],
   "source": []
  },
  {
   "cell_type": "markdown",
   "id": "65c865f1",
   "metadata": {},
   "source": [
    "## Step 5: Actions\n",
    "- Use insights\n",
    "- Measure impact\n",
    "- Main goal"
   ]
  },
  {
   "cell_type": "markdown",
   "id": "ba773e6b",
   "metadata": {},
   "source": [
    "### Step 5.a: Actions\n",
    "- Propose actions"
   ]
  },
  {
   "cell_type": "code",
   "execution_count": null,
   "id": "891475ce",
   "metadata": {},
   "outputs": [],
   "source": []
  },
  {
   "cell_type": "code",
   "execution_count": null,
   "id": "1b96549b",
   "metadata": {},
   "outputs": [],
   "source": []
  },
  {
   "cell_type": "markdown",
   "id": "e52200d1",
   "metadata": {},
   "source": [
    "### Step 5.b Measure impact\n",
    "- Propose how to measure impact of actions"
   ]
  },
  {
   "cell_type": "code",
   "execution_count": null,
   "id": "933cf158",
   "metadata": {},
   "outputs": [],
   "source": []
  },
  {
   "cell_type": "code",
   "execution_count": null,
   "id": "25acb4f9",
   "metadata": {},
   "outputs": [],
   "source": []
  }
 ],
 "metadata": {
  "kernelspec": {
   "display_name": "Python 3 (ipykernel)",
   "language": "python",
   "name": "python3"
  },
  "language_info": {
   "codemirror_mode": {
    "name": "ipython",
    "version": 3
   },
   "file_extension": ".py",
   "mimetype": "text/x-python",
   "name": "python",
   "nbconvert_exporter": "python",
   "pygments_lexer": "ipython3",
   "version": "3.9.9"
  }
 },
 "nbformat": 4,
 "nbformat_minor": 5
}
