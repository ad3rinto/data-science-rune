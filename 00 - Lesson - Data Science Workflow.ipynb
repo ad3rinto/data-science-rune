{
 "cells": [
  {
   "cell_type": "markdown",
   "id": "0676b191",
   "metadata": {},
   "source": [
    "# Data Science Workflow"
   ]
  },
  {
   "cell_type": "markdown",
   "id": "766b427a",
   "metadata": {},
   "source": [
    "## Why Data Science?\n",
    "#### Motivation to learn Data Science\n",
    "- Smart phones collect data\n",
    "- Data driven decisions in business\n",
    "- Understand the world\n",
    "\n",
    "#### Job opportunities: Data Science with Python\n",
    "- Over 2.5 million jobs in data science and related professions (Burning Glass)\n",
    "- Python most popular language for data science (KDnuggets)\n",
    "- Data Science and Analytics professionals have average starting salary of over USD 80,000 in the US.\n",
    "\n",
    "#### Popularity?\n",
    "- The amount data available today\n",
    "- Data-driven applications have shown high value"
   ]
  },
  {
   "cell_type": "markdown",
   "id": "0757aa66",
   "metadata": {},
   "source": [
    "## How did Data Science start?\n",
    "- [Data Analysis Helped Defeat Cholera](https://www.udacity.com/blog/2015/02/how-data-analysis-helped-defeat-cholera.html)\n",
    "- [First Modern Weahter Forecast](https://en.wikipedia.org/wiki/Weather_forecasting#Modern_methods)"
   ]
  },
  {
   "cell_type": "markdown",
   "id": "c784a623",
   "metadata": {},
   "source": [
    "## Data Science: Understanding the Problem\n",
    "- Get the right question:\n",
    "    - What is the **problem** we try to **solve**?\n",
    "    - This forms the **Data Science problem**\n",
    "    - **Examples**\n",
    "        - Sales figure and call center logs: evaluate a new product\n",
    "        - Sensor data from multiple sensors: detect equipment failure\n",
    "        - Customer data + marketing data: better targeted marketing\n",
    "- **Assess situation**\n",
    "    - Risks, Benefits, Contingencies, Regulations, Resources, Requirement\n",
    "- **Define goal**\n",
    "    - What is the **objective**?\n",
    "    - What is the **success criteria**?\n",
    "- **Conclusion**\n",
    "    - Defining the problem is key to successful Data Science projects"
   ]
  },
  {
   "cell_type": "markdown",
   "id": "775c0e80",
   "metadata": {},
   "source": [
    "## The Data Science Workflow"
   ]
  },
  {
   "cell_type": "markdown",
   "id": "e2acf73a",
   "metadata": {},
   "source": [
    "![Data Science Workflow](img/ds-workflow.png)"
   ]
  },
  {
   "cell_type": "markdown",
   "id": "80badb8a",
   "metadata": {},
   "source": [
    "### Example: Weather forecast\n",
    "- Step 1\n",
    "    - **Problem**: Predict weather tomorrow\n",
    "    - **Data**: Time series on *Temperateture, Air pressure, Humidity, Rain, Wind speed, Wind direction, etc.*\n",
    "    - **Import**: Collect data from sources\n",
    "- Step 2\n",
    "    - **Explore**: Data quality\n",
    "    - **Visualize**: A great way to understand data\n",
    "    - **Cleaning**: Handle missing or faulty data\n",
    "- Step 3\n",
    "    - **Features**: Select features to use in model\n",
    "    - **Model**: Example in predicting *rain/no rain* ([Tutorial + Video + Code + Project](https://www.learnpythonwithrune.org/linear-classifier-from-scratch-explained-on-real-project/))\n",
    "    - **Analyze**: Apply the prediction model\n",
    "- Step 4\n",
    "    - **Present**: Weather forecast\n",
    "    - **Visualize**: Charts, maps, etc.\n",
    "    - **Credibility**: Inaccurate results, too high confidence, not presenting full findings\n",
    "- Step 5\n",
    "    - **Insights**: What to wear, impact on outside events, etc.\n",
    "    - **Impact**: Sales and weather forecast *(umbrella, ice cream, etc.)*\n",
    "    - **Main goal**: This is what makes Data Science valuable"
   ]
  },
  {
   "cell_type": "markdown",
   "id": "e070b9f3",
   "metadata": {},
   "source": [
    "## Data Scientist Skills\n",
    "#### Beginners vs Experts Data Scientists\n",
    "\n",
    "![Data Science Workflow](img/ds-workflow-focus.png)\n",
    "\n",
    "### Hard skills\n",
    "- Math and Statistics\n",
    "- Programming\n",
    "- Domain knowledge\n",
    "- Data visualization\n",
    "\n",
    "### Soft skills\n",
    "- Curiosity\n",
    "- Communication\n",
    "- Storytelling Skills\n",
    "- Structured Thinking"
   ]
  },
  {
   "cell_type": "markdown",
   "id": "9ce2ed3f",
   "metadata": {},
   "source": [
    "## Student Grade Prediction\n",
    "- Predict the final grade of Portugese high school students ([source: Kaggle](https://www.kaggle.com/dipam7/student-grade-prediction))\n",
    "\n",
    "### Features\n",
    "| Feature | Description |\n",
    "| ------------- |-------------|\n",
    "| school | student's school (binary: 'GP' - Gabriel Pereira or 'MS' - Mousinho da Silveira) |\n",
    "| sex | student's sex (binary: 'F' - female or 'M' - male) |\n",
    "| age | student's age (numeric: from 15 to 22) |\n",
    "| address | student's home address type (binary: 'U' - urban or 'R' - rural) |\n",
    "| famsize | family size (binary: 'LE3' - less or equal to 3 or 'GT3' - greater than 3) |\n",
    "| Pstatus | parent's cohabitation status (binary: 'T' - living together or 'A' - apart) |\n",
    "| Medu | mother's education (numeric: 0: none, 1: primary education (4th grade), 2: 5th to 9th grade, 3: secondary education or 4: higher education) |\n",
    "| Fedu | father's education (numeric: 0: none, 1: primary education (4th grade), 2: 5th to 9th grade, 3:   secondary education or 4: higher education) |\n",
    "| Mjob | mother's job (nominal: 'teacher', 'health' care related, civil 'services' (e.g. administrative or police), 'at_home' or 'other') |\n",
    "| Fjob | father's job (nominal: 'teacher', 'health' care related, civil 'services' (e.g. administrative or police), 'at_home' or 'other') |\n",
    "| reason | reason to choose this school (nominal: close to 'home', school 'reputation', 'course' preference or 'other') |\n",
    "| guardian | student's guardian (nominal: 'mother', 'father' or 'other') |\n",
    "| traveltime | home to school travel time (numeric: 1: <15 min., 2: 15-30 min., 3: 30 min. - 1 hour, or 4: >1 hour) |\n",
    "| studytime | weekly study time (numeric: 1: <2 hours, 2: 2 to 5 hours, 3: 5 to 10 hours, or 4: >10 hours) |\n",
    "| failures | number of past class failures (numeric: n if 1<=n<3, else 4) |\n",
    "| schoolsup | extra educational support (binary: yes or no) |\n",
    "| famsup | family educational support (binary: yes or no) |\n",
    "| paid | extra paid classes within the course subject (Math or Portuguese) (binary: yes or no) |\n",
    "| activities | extra-curricular activities (binary: yes or no) |\n",
    "| nursery | attended nursery school (binary: yes or no) |\n",
    "| higher | wants to take higher education (binary: yes or no) |\n",
    "| internet | Internet access at home (binary: yes or no) |\n",
    "| romantic | with a romantic relationship (binary: yes or no) |\n",
    "| famrel | quality of family relationships (numeric: from 1 - very bad to 5 - excellent) |\n",
    "| freetime | free time after school (numeric: from 1 - very low to 5 - very high) |\n",
    "| goout | going out with friends (numeric: from 1 - very low to 5 - very high) |\n",
    "| Dalc | workday alcohol consumption (numeric: from 1 - very low to 5 - very high) |\n",
    "| Walc | weekend alcohol consumption (numeric: from 1 - very low to 5 - very high) |\n",
    "| health | current health status (numeric: from 1 - very bad to 5 - very good) |\n",
    "| absences | number of school absences (numeric: from 0 to 93) |\n",
    "\n",
    "### Targets\n",
    "| Feature | Description |\n",
    "| ------------- |-------------|\n",
    "| G1 | first period grade (numeric: from 0 to 20) |\n",
    "| G2 | second period grade (numeric: from 0 to 20) |\n",
    "| G3 | final grade (numeric: from 0 to 20, output target) |"
   ]
  },
  {
   "cell_type": "markdown",
   "id": "0889fa2e",
   "metadata": {},
   "source": [
    "### Problem: Propose activities to improve G3 grades.\n",
    "\n",
    "#### Our Goal\n",
    "- To guide the school how they helps students getting higher grades"
   ]
  },
  {
   "cell_type": "markdown",
   "id": "4b6228c1",
   "metadata": {},
   "source": [
    "> #### Programming Notes:\n",
    "> - Libraries used\n",
    ">     - [**pandas**](https://pandas.pydata.org) - a data analysis and manipulation tool\n",
    "> - Functionality and concepts used\n",
    ">     - [**CSV**](https://en.wikipedia.org/wiki/Comma-separated_values) file ([Lecture on CSV](https://youtu.be/LEyojSOg4EI))\n",
    ">     - [**read_csv()**](https://pandas.pydata.org/pandas-docs/stable/reference/api/pandas.read_csv.html) read a comma-separated values (csv) file into **pandas** DataFrame.\n",
    ">     - [**corr()**](https://pandas.pydata.org/docs/reference/api/pandas.DataFrame.corr.html) Compute pairwise correlation of **pandas** DataFrame columns, excluding NA/null values.\n",
    ">     - [**groupby()**](https://pandas.pydata.org/pandas-docs/stable/reference/api/pandas.DataFrame.groupby.html) Grouping a **pandas** DataFrame column to apply a function on it.\n",
    ">     - [**mean()**](https://pandas.pydata.org/pandas-docs/stable/reference/api/pandas.DataFrame.mean.html) Return the mean of the values over the requested axis in a **pandas** DataFrame.\n",
    ">     - [**std()**](https://pandas.pydata.org/docs/reference/api/pandas.DataFrame.std.html) Return sample standard deviation over requested axis of a **pandas** DataFrame.\n",
    ">     - [**count()**](https://pandas.pydata.org/docs/reference/api/pandas.DataFrame.count.html) Count non-NA cells for each column or row of a **pandas** DataFrame."
   ]
  },
  {
   "cell_type": "markdown",
   "id": "0cc4c7c9",
   "metadata": {},
   "source": [
    "### Step 1: Acquire\n",
    "- Explore problem\n",
    "- Identify data\n",
    "- Import data"
   ]
  },
  {
   "cell_type": "markdown",
   "id": "160a3e40",
   "metadata": {},
   "source": [
    "#### Get the right questions\n",
    "- This forms the data science problem\n",
    "- What is the problem\n",
    "\n",
    "#### Examples\n",
    "| Data | Problem |\n",
    "| ---- | ------- |\n",
    "| Sales figure and call center logs | evaluate a new product |\n",
    "| Sensor data from multiple sensors | detect equipment failure |\n",
    "| Customer data & marketing data | better targeted marketing |"
   ]
  },
  {
   "cell_type": "markdown",
   "id": "4b4f0146",
   "metadata": {},
   "source": [
    "#### Understand context\n",
    "- Student age?\n",
    "- What is possible?\n",
    "- What is the budget?"
   ]
  },
  {
   "cell_type": "markdown",
   "id": "e2a1f0cc",
   "metadata": {},
   "source": [
    "#### Data\n",
    "- Import and read the data"
   ]
  },
  {
   "cell_type": "code",
   "execution_count": null,
   "id": "e2a8e8ff",
   "metadata": {},
   "outputs": [],
   "source": []
  },
  {
   "cell_type": "code",
   "execution_count": null,
   "id": "d4a08a54",
   "metadata": {},
   "outputs": [],
   "source": []
  },
  {
   "cell_type": "code",
   "execution_count": null,
   "id": "12e752c0",
   "metadata": {},
   "outputs": [],
   "source": []
  },
  {
   "cell_type": "code",
   "execution_count": null,
   "id": "2a7431b0",
   "metadata": {},
   "outputs": [],
   "source": []
  },
  {
   "cell_type": "code",
   "execution_count": null,
   "id": "b371c303",
   "metadata": {},
   "outputs": [],
   "source": []
  },
  {
   "cell_type": "markdown",
   "id": "81e11290",
   "metadata": {},
   "source": [
    "### Step 2: Prepare\n",
    "- Explore data\n",
    "- Visualize ideas\n",
    "- Cleaning data"
   ]
  },
  {
   "cell_type": "markdown",
   "id": "7fc3f080",
   "metadata": {},
   "source": [
    "Are the data types as expected?"
   ]
  },
  {
   "cell_type": "code",
   "execution_count": null,
   "id": "f1e4f0f2",
   "metadata": {},
   "outputs": [],
   "source": []
  },
  {
   "cell_type": "markdown",
   "id": "8d4c04e4",
   "metadata": {},
   "source": [
    "Are there missing values?"
   ]
  },
  {
   "cell_type": "code",
   "execution_count": null,
   "id": "d905be5d",
   "metadata": {},
   "outputs": [],
   "source": []
  },
  {
   "cell_type": "markdown",
   "id": "b76e05a3",
   "metadata": {},
   "source": [
    "### Step 3: Analyze\n",
    "- Feature selection\n",
    "- Model selection\n",
    "- Analyze data*"
   ]
  },
  {
   "cell_type": "markdown",
   "id": "43c92be6",
   "metadata": {},
   "source": [
    "####  Explore correlation\n",
    "\n",
    "How to interpret correlation\n",
    "![Correlation diagram](img/correlation-diagram.png)"
   ]
  },
  {
   "cell_type": "code",
   "execution_count": null,
   "id": "69a1a320",
   "metadata": {},
   "outputs": [],
   "source": []
  },
  {
   "cell_type": "markdown",
   "id": "869e9b9c",
   "metadata": {},
   "source": [
    "Notice that it only makes correlation with numeric features."
   ]
  },
  {
   "cell_type": "code",
   "execution_count": null,
   "id": "3dcdbbeb",
   "metadata": {},
   "outputs": [],
   "source": []
  },
  {
   "cell_type": "markdown",
   "id": "2a78f638",
   "metadata": {},
   "source": [
    "Find high impact features - but what can you do about it? Medu, Mjob"
   ]
  },
  {
   "cell_type": "code",
   "execution_count": null,
   "id": "447803ea",
   "metadata": {},
   "outputs": [],
   "source": []
  },
  {
   "cell_type": "code",
   "execution_count": null,
   "id": "e5a0749e",
   "metadata": {},
   "outputs": [],
   "source": []
  },
  {
   "cell_type": "markdown",
   "id": "2aa3bbc0",
   "metadata": {},
   "source": [
    "#### Standard deviation\n",
    "![Standard deviation](img/std-diagram.png)"
   ]
  },
  {
   "cell_type": "code",
   "execution_count": null,
   "id": "5b2da102",
   "metadata": {},
   "outputs": [],
   "source": []
  },
  {
   "cell_type": "markdown",
   "id": "d62bb982",
   "metadata": {},
   "source": [
    "### Step 4: Report\n",
    "- Present findings\n",
    "- Visualize results\n",
    "- Credibility counts"
   ]
  },
  {
   "cell_type": "markdown",
   "id": "e834d335",
   "metadata": {},
   "source": [
    "#### Credibility\n",
    "- The impact we expect"
   ]
  },
  {
   "cell_type": "code",
   "execution_count": null,
   "id": "8d8fa77e",
   "metadata": {},
   "outputs": [],
   "source": []
  },
  {
   "cell_type": "code",
   "execution_count": null,
   "id": "462759fc",
   "metadata": {},
   "outputs": [],
   "source": []
  },
  {
   "cell_type": "code",
   "execution_count": null,
   "id": "157d7f87",
   "metadata": {},
   "outputs": [],
   "source": []
  },
  {
   "cell_type": "markdown",
   "id": "17251446",
   "metadata": {},
   "source": [
    "Impact not the huge"
   ]
  },
  {
   "cell_type": "markdown",
   "id": "14b9667c",
   "metadata": {},
   "source": [
    "### Step 5: Actions\n",
    "- Use insights\n",
    "- Measure impact\n",
    "- Main goal"
   ]
  },
  {
   "cell_type": "markdown",
   "id": "dcb0ec2c",
   "metadata": {},
   "source": [
    "Impact measures\n",
    "- Same data after effort\n",
    "- Measure if 'higher' is lower\n",
    "- Did it influence G3?"
   ]
  },
  {
   "cell_type": "code",
   "execution_count": null,
   "id": "f0c384a6",
   "metadata": {},
   "outputs": [],
   "source": []
  }
 ],
 "metadata": {
  "kernelspec": {
   "display_name": "Python 3 (ipykernel)",
   "language": "python",
   "name": "python3"
  },
  "language_info": {
   "codemirror_mode": {
    "name": "ipython",
    "version": 3
   },
   "file_extension": ".py",
   "mimetype": "text/x-python",
   "name": "python",
   "nbconvert_exporter": "python",
   "pygments_lexer": "ipython3",
   "version": "3.8.8"
  }
 },
 "nbformat": 4,
 "nbformat_minor": 5
}
