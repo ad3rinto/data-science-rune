{
 "cells": [
  {
   "cell_type": "markdown",
   "id": "39c877c9",
   "metadata": {},
   "source": [
    "# Project - Parameters with Highest Impact on House Price Class"
   ]
  },
  {
   "cell_type": "markdown",
   "id": "26869a35",
   "metadata": {},
   "source": [
    "![Data Science Workflow](img/ds-workflow.png)"
   ]
  },
  {
   "cell_type": "markdown",
   "id": "52f66758",
   "metadata": {},
   "source": [
    "## Goal of Project\n",
    "- The real estate dealer from last assignment calls back and clarifies his objective\n",
    "- Not so interested in finding what matters most to find house price, but more in which range a house is in.\n",
    "- There are 3 classes: 33% cheapest, 33% mid-range, 33% expensive houses.\n",
    "- He needs to find which 10 parameters matters most to determine that"
   ]
  },
  {
   "cell_type": "markdown",
   "id": "77f362c4",
   "metadata": {},
   "source": [
    "## Step 1: Acquire\n",
    "- Explore problem\n",
    "- Identify data\n",
    "- Import data"
   ]
  },
  {
   "cell_type": "markdown",
   "id": "6f8cbbcb",
   "metadata": {},
   "source": [
    "### Step 1.a: Import libraries\n",
    "- Execute the cell below (SHIFT + ENTER)\n",
    "- NOTE: You might need to install mlxtend, if so, run the following in a cell\n",
    "```\n",
    "!pip install mlxtend\n",
    "```"
   ]
  },
  {
   "cell_type": "code",
   "execution_count": null,
   "id": "6f193148",
   "metadata": {},
   "outputs": [],
   "source": []
  },
  {
   "cell_type": "markdown",
   "id": "b5f9a799",
   "metadata": {},
   "source": [
    "### Step 1.b: Read the data\n",
    "- Use ```pd.read_parquet()``` to read the file `files/house_sales.parquet`\n",
    "- NOTE: Remember to assign the result to a variable (e.g., ```data```)\n",
    "- Apply ```.head()``` on the data to see all is as expected"
   ]
  },
  {
   "cell_type": "code",
   "execution_count": null,
   "id": "5ab67d67",
   "metadata": {},
   "outputs": [],
   "source": []
  },
  {
   "cell_type": "code",
   "execution_count": null,
   "id": "059e8bed",
   "metadata": {},
   "outputs": [],
   "source": []
  },
  {
   "cell_type": "markdown",
   "id": "a2377dd7",
   "metadata": {},
   "source": [
    "### Step 1.c: Inspect the data\n",
    "- Check the number of rows and columns\n",
    "    - HINT: `.shape`"
   ]
  },
  {
   "cell_type": "code",
   "execution_count": null,
   "id": "bfed6186",
   "metadata": {},
   "outputs": [],
   "source": []
  },
  {
   "cell_type": "markdown",
   "id": "3bec949d",
   "metadata": {},
   "source": [
    "## Step 2: Prepare\n",
    "- Explore data\n",
    "- Visualize ideas\n",
    "- Cleaning data"
   ]
  },
  {
   "cell_type": "markdown",
   "id": "6a5d948d",
   "metadata": {},
   "source": [
    "### Step 2.a: Check the data types\n",
    "- This step tells you if some numeric column is not represented numeric.\n",
    "- Get the data types by ```.dtypes```"
   ]
  },
  {
   "cell_type": "code",
   "execution_count": null,
   "id": "3858065d",
   "metadata": {},
   "outputs": [],
   "source": []
  },
  {
   "cell_type": "markdown",
   "id": "2867789a",
   "metadata": {},
   "source": [
    "### Step 2.b: Check for null (missing) values\n",
    "- Let's check if any features are not valuable\n",
    "- Use ```.info()```\n",
    "- Should we remove any?\n",
    "    - You can remove features (columns):\n",
    "    ```Python\n",
    "data.drop([<column_name>, ..., <column_name>], axis=1)\n",
    "```"
   ]
  },
  {
   "cell_type": "code",
   "execution_count": null,
   "id": "58e2e31c",
   "metadata": {},
   "outputs": [],
   "source": []
  },
  {
   "cell_type": "code",
   "execution_count": null,
   "id": "9fe1120f",
   "metadata": {},
   "outputs": [],
   "source": []
  },
  {
   "cell_type": "markdown",
   "id": "8cc1cabe",
   "metadata": {},
   "source": [
    "## Step 3: Analyze\n",
    "- Feature selection\n",
    "- Model selection\n",
    "- Analyze data"
   ]
  },
  {
   "cell_type": "markdown",
   "id": "5607dc7a",
   "metadata": {},
   "source": [
    "### Step 3.a: Quasi constant features\n",
    "- Let see if there are any quasi features\n",
    "- Create a `VarianceThreshold(threshold=0.01)` and fit it\n",
    "- The features that are not quasi constant are given by `sel.get_feature_names_out()`\n",
    "- Get all the qausi features as with list comprehension"
   ]
  },
  {
   "cell_type": "code",
   "execution_count": null,
   "id": "f73d66cc",
   "metadata": {},
   "outputs": [],
   "source": []
  },
  {
   "cell_type": "code",
   "execution_count": null,
   "id": "9e6eacad",
   "metadata": {},
   "outputs": [],
   "source": []
  },
  {
   "cell_type": "code",
   "execution_count": null,
   "id": "9c815174",
   "metadata": {},
   "outputs": [],
   "source": []
  },
  {
   "cell_type": "markdown",
   "id": "8c0a2914",
   "metadata": {},
   "source": [
    "### Step 3.b: Correlated features\n",
    "- Calculate the correlation matrix `corr_matrix` and inspect it\n",
    "    - HINT: use `.corr()`\n",
    "- Get all the correlated features\n",
    "    - HINT: A feature is correlated to a feature before it if\n",
    "```Python\n",
    "(corr_matrix[feature].iloc[:corr_matrix.columns.get_loc(feature)] > 0.8).any()\n",
    "```\n",
    "    - HINT: Use list comprehension to get a list of the correlated features"
   ]
  },
  {
   "cell_type": "code",
   "execution_count": null,
   "id": "86299488",
   "metadata": {},
   "outputs": [],
   "source": []
  },
  {
   "cell_type": "code",
   "execution_count": null,
   "id": "54927e92",
   "metadata": {},
   "outputs": [],
   "source": []
  },
  {
   "cell_type": "markdown",
   "id": "9d467d87",
   "metadata": {},
   "source": [
    "### Step 3.c: Prepare training and test set\n",
    "- Create 3 categorical price ranges using `qcut`\n",
    "    - HINT: `pd.qcut(data['SalePrice'], q=3, labels=[1, 2, 3])`\n",
    "- Assign all features in `X`\n",
    "    - HINT: Use `.drop(['SalePrice', 'Target'] + quasi_features + corr_features, axis=1)`\n",
    "        - (assuming the same naming)\n",
    "- Assign the target to `y`\n",
    "    - HINT: The target is column `Target`\n",
    "- Split into train and test using `train_test_split`"
   ]
  },
  {
   "cell_type": "code",
   "execution_count": null,
   "id": "c889eb29",
   "metadata": {},
   "outputs": [],
   "source": []
  },
  {
   "cell_type": "code",
   "execution_count": null,
   "id": "18f78061",
   "metadata": {},
   "outputs": [],
   "source": []
  },
  {
   "cell_type": "markdown",
   "id": "07cbff2f",
   "metadata": {},
   "source": [
    "### Step 3.d: 10 best features for KNeighborsClassifier model\n",
    "- Use the `SFS` to find 10 best features for a `KNeighborsClassifier` model\n",
    "    - HINT: `SFS(KNeighborsClassifier(), k_features=10, verbose=2)`\n",
    "    - HINT: when fitting fill missing values or remove them\n",
    "        - Notice: ideally we would investigate them further to find appropriate values\n",
    "- You get the best feature index from `.k_feature_idx_`"
   ]
  },
  {
   "cell_type": "code",
   "execution_count": null,
   "id": "1488f55d",
   "metadata": {},
   "outputs": [],
   "source": []
  },
  {
   "cell_type": "markdown",
   "id": "b9d5f3fa",
   "metadata": {},
   "source": [
    "### Step 3.e: Explore the features\n",
    "- Let's try to explore the features\n",
    "    - HINT: The features can be accessed by `sfs.k_feature_idx_`\n",
    "    - HINT: Get the feature names by: `X_train.columns[list(sfs.k_feature_idx_)]`\n",
    "- Try to list them according to correlation score\n",
    "    - HINT: This is a bit more advanced Python\n",
    "\n",
    "```Python\n",
    "for item in X_train.columns[list(sfs.k_feature_idx_)]:\n",
    "    loc = corr_matrix['SalePrice'].sort_values(ascending=False).index.get_loc(item)\n",
    "    print(item, loc)\n",
    "```\n",
    "- Does the result surprise you?\n",
    "- Does it change your recommendations?"
   ]
  },
  {
   "cell_type": "code",
   "execution_count": null,
   "id": "8ebd7b4b",
   "metadata": {},
   "outputs": [],
   "source": []
  },
  {
   "cell_type": "code",
   "execution_count": null,
   "id": "56a71661",
   "metadata": {},
   "outputs": [],
   "source": []
  },
  {
   "cell_type": "code",
   "execution_count": null,
   "id": "69516789",
   "metadata": {},
   "outputs": [],
   "source": []
  },
  {
   "cell_type": "code",
   "execution_count": null,
   "id": "5f28ce36",
   "metadata": {},
   "outputs": [],
   "source": []
  },
  {
   "cell_type": "code",
   "execution_count": null,
   "id": "0e9448db",
   "metadata": {},
   "outputs": [],
   "source": []
  },
  {
   "cell_type": "code",
   "execution_count": null,
   "id": "e3f86479",
   "metadata": {},
   "outputs": [],
   "source": []
  },
  {
   "cell_type": "markdown",
   "id": "98a71ee2",
   "metadata": {},
   "source": [
    "## Step 4: Report\n",
    "- Present findings\n",
    "- Visualize results\n",
    "- Credibility counts"
   ]
  },
  {
   "cell_type": "markdown",
   "id": "1d51d38f",
   "metadata": {},
   "source": [
    "### Step 4.a: Present findings\n",
    "- Use the analysis from Step 3 to figures out how to present your findings\n",
    "- Try to think how the real estate dealer can use these findings"
   ]
  },
  {
   "cell_type": "code",
   "execution_count": null,
   "id": "efbe6a8b",
   "metadata": {},
   "outputs": [],
   "source": []
  },
  {
   "cell_type": "code",
   "execution_count": null,
   "id": "d7a8be52",
   "metadata": {},
   "outputs": [],
   "source": []
  },
  {
   "cell_type": "markdown",
   "id": "65c865f1",
   "metadata": {},
   "source": [
    "## Step 5: Actions\n",
    "- Use insights\n",
    "- Measure impact\n",
    "- Main goal"
   ]
  },
  {
   "cell_type": "markdown",
   "id": "34cd3598",
   "metadata": {},
   "source": [
    "### Step 5.a: Measure impact\n",
    "- Can we help the dealer to use these insights?"
   ]
  },
  {
   "cell_type": "code",
   "execution_count": null,
   "id": "f501ed4d",
   "metadata": {},
   "outputs": [],
   "source": []
  },
  {
   "cell_type": "code",
   "execution_count": null,
   "id": "f919047e",
   "metadata": {},
   "outputs": [],
   "source": []
  }
 ],
 "metadata": {
  "kernelspec": {
   "display_name": "Python 3 (ipykernel)",
   "language": "python",
   "name": "python3"
  },
  "language_info": {
   "codemirror_mode": {
    "name": "ipython",
    "version": 3
   },
   "file_extension": ".py",
   "mimetype": "text/x-python",
   "name": "python",
   "nbconvert_exporter": "python",
   "pygments_lexer": "ipython3",
   "version": "3.9.12"
  }
 },
 "nbformat": 4,
 "nbformat_minor": 5
}
