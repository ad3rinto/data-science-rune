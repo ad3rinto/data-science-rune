{
 "cells": [
  {
   "cell_type": "markdown",
   "id": "9399dac7",
   "metadata": {},
   "source": [
    "# Linear Regression Analysis"
   ]
  },
  {
   "cell_type": "markdown",
   "id": "7cfa0987",
   "metadata": {},
   "source": [
    "![Data Science Workflow](img/ds-workflow.png)"
   ]
  },
  {
   "cell_type": "markdown",
   "id": "c6c04edf",
   "metadata": {},
   "source": [
    "## Linear Regression\n",
    "- Given data input (independent variables) can we predict output (dependent variable)\n",
    "- It is the mapping from input point to a continuous value"
   ]
  },
  {
   "cell_type": "markdown",
   "id": "dd975da5",
   "metadata": {},
   "source": [
    "![Linear Regression](img/linear_regression.png)"
   ]
  },
  {
   "cell_type": "markdown",
   "id": "e94af05e",
   "metadata": {},
   "source": [
    "### Correlation and Linear Regression\n",
    "- Correlation\n",
    "    - Single measure of relationship between two variables.\n",
    "- Linear Regression\n",
    "    - An equation used for prediction.\n",
    "- Similarities\n",
    "    - Describes relationship between variables"
   ]
  },
  {
   "cell_type": "code",
   "execution_count": null,
   "id": "8d58b483",
   "metadata": {},
   "outputs": [],
   "source": []
  },
  {
   "cell_type": "code",
   "execution_count": null,
   "id": "c6f063e9",
   "metadata": {},
   "outputs": [],
   "source": []
  },
  {
   "cell_type": "code",
   "execution_count": null,
   "id": "6737c26d",
   "metadata": {},
   "outputs": [],
   "source": []
  },
  {
   "cell_type": "code",
   "execution_count": null,
   "id": "e9a8b439",
   "metadata": {},
   "outputs": [],
   "source": []
  },
  {
   "cell_type": "code",
   "execution_count": null,
   "id": "7dd50174",
   "metadata": {},
   "outputs": [],
   "source": []
  },
  {
   "cell_type": "markdown",
   "id": "b60801f4",
   "metadata": {},
   "source": [
    "### Sklearn\n",
    "- Machine Learning in Python [scikit-learn](https://scikit-learn.org/stable/)\n",
    "- [LinearRegression](https://scikit-learn.org/stable/modules/generated/sklearn.linear_model.LinearRegression.html) Ordinary least squares Linear Regression.\n",
    "\n",
    "### Linear Regression\n",
    "- The **Linear Regression model** takes a collection of **observations**\n",
    "- Each **observation** has **featuers** (or variables).\n",
    "- The **features** the model takes as input are called **independent** (often denoted with `X`)\n",
    "- The **feature** the model outputs is called **dependent** (often denoted with `y`)"
   ]
  },
  {
   "cell_type": "code",
   "execution_count": null,
   "id": "22930666",
   "metadata": {},
   "outputs": [],
   "source": []
  },
  {
   "cell_type": "code",
   "execution_count": null,
   "id": "12be5ed8",
   "metadata": {},
   "outputs": [],
   "source": []
  },
  {
   "cell_type": "code",
   "execution_count": null,
   "id": "2a16a77f",
   "metadata": {},
   "outputs": [],
   "source": []
  },
  {
   "cell_type": "markdown",
   "id": "597a2ce5",
   "metadata": {},
   "source": [
    "### Measure the predictions\n",
    "- **R-squared**: regression score function ([docs](https://scikit-learn.org/stable/modules/generated/sklearn.metrics.r2_score.html))\n",
    "- Best possible score is 1.0\n",
    "- Interpretation of score is context dependent"
   ]
  },
  {
   "cell_type": "code",
   "execution_count": null,
   "id": "b5b06ff9",
   "metadata": {},
   "outputs": [],
   "source": []
  },
  {
   "cell_type": "code",
   "execution_count": null,
   "id": "6845150c",
   "metadata": {},
   "outputs": [],
   "source": []
  },
  {
   "cell_type": "code",
   "execution_count": null,
   "id": "cb5ecb43",
   "metadata": {},
   "outputs": [],
   "source": []
  },
  {
   "cell_type": "code",
   "execution_count": null,
   "id": "e2a4a656",
   "metadata": {},
   "outputs": [],
   "source": []
  }
 ],
 "metadata": {
  "kernelspec": {
   "display_name": "Python 3 (ipykernel)",
   "language": "python",
   "name": "python3"
  },
  "language_info": {
   "codemirror_mode": {
    "name": "ipython",
    "version": 3
   },
   "file_extension": ".py",
   "mimetype": "text/x-python",
   "name": "python",
   "nbconvert_exporter": "python",
   "pygments_lexer": "ipython3",
   "version": "3.8.8"
  }
 },
 "nbformat": 4,
 "nbformat_minor": 5
}
