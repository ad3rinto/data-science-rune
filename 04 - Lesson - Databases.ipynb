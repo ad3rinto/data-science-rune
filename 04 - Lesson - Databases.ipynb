{
 "cells": [
  {
   "cell_type": "markdown",
   "id": "b6debaac",
   "metadata": {},
   "source": [
    "# Databases"
   ]
  },
  {
   "cell_type": "markdown",
   "id": "a560dd75",
   "metadata": {},
   "source": [
    "![Data Science Workflow](img/ds-workflow.png)"
   ]
  },
  {
   "cell_type": "markdown",
   "id": "c25bb04b",
   "metadata": {},
   "source": [
    "## Acquire Data\n",
    "### Common Data Sources\n",
    "- The Internet - Web Scraping\n",
    "- **Databases**\n",
    "- CSV\n",
    "- Excel\n",
    "- Parquet"
   ]
  },
  {
   "cell_type": "markdown",
   "id": "bfa4218b",
   "metadata": {},
   "source": [
    "### Database\n",
    "- **Relational databases** models data in rows and columns in a series of tables.\n",
    "- Like a collection of **DataFrames/Excel sheets**.\n",
    "- **SQL** (often pronounced *sequel*): Structured Query Language\n",
    "- Non-relational databases [NoSQL](https://en.wikipedia.org/wiki/NoSQL)"
   ]
  },
  {
   "cell_type": "markdown",
   "id": "d9874702",
   "metadata": {},
   "source": [
    "### SQLite database\n",
    "- [SQLite database](https://www.sqlite.org/index.html) software library that provides a relational database management system\n",
    "- Lightweight to setup, administrate, and requires low resources."
   ]
  },
  {
   "cell_type": "markdown",
   "id": "6d7f352f",
   "metadata": {},
   "source": [
    "### Dataset (in a SQLite database)\n",
    "- Dallas Police Officer-Involved Shootings\n",
    "- Has three tables: **incidents, officers, subjects**\n",
    "\n",
    "#### Other SQLite datasets\n",
    "- [SQLite Data Starter Packs](http://2016.padjo.org/tutorials/sqlite-data-starterpacks/)\n",
    "- [Iris Species (Kaggle)](https://www.kaggle.com/uciml/iris)\n",
    "- [European Soccer Database (Kaggle)](https://www.kaggle.com/hugomathien/soccer)"
   ]
  },
  {
   "cell_type": "markdown",
   "id": "2a4264e0",
   "metadata": {},
   "source": [
    "### Database connector\n",
    "- The [sqlite3](https://docs.python.org/3/library/sqlite3.html) is an interface for SQLite databases.\n",
    "- No installation needed.\n",
    "\n",
    "#### Other database connectors for Python\n",
    "* [MySQL Connector](https://dev.mysql.com/doc/connector-python/en/) for MySQL\n",
    "* [Psycopg](http://initd.org/psycopg/docs/install.html) for PostgreSQL\n",
    "* [pymssql](http://pymssql.org/en/stable/) for Microsoft MS SQL"
   ]
  },
  {
   "cell_type": "markdown",
   "id": "f6779643",
   "metadata": {},
   "source": [
    "To import and connect to a SQLite database.\n",
    "```Python\n",
    "import sqlite3\n",
    "conn = sqlite3.connect('files/dallas-ois.sqlite')\n",
    "```"
   ]
  },
  {
   "cell_type": "code",
   "execution_count": null,
   "id": "ebb87cca",
   "metadata": {},
   "outputs": [],
   "source": []
  },
  {
   "cell_type": "code",
   "execution_count": null,
   "id": "e86e0c1d",
   "metadata": {},
   "outputs": [],
   "source": []
  },
  {
   "cell_type": "markdown",
   "id": "329dbd67",
   "metadata": {},
   "source": [
    "The interface to the datases is through the `cursor`.\n",
    "\n",
    "```Python\n",
    "cursor = conn.cursor()\n",
    "```\n",
    "\n",
    "The `execute` method allows to run `SQL` queries on our database.\n",
    "\n",
    "To get a list of all the tables the following query can be applied.\n",
    "\n",
    "```SQL\n",
    "SELECT name FROM sqlite_master WHERE type='table' ORDER BY name\n",
    "```\n",
    "\n",
    "The result is fetched with the `fetchall()` method."
   ]
  },
  {
   "cell_type": "code",
   "execution_count": null,
   "id": "bff884a4",
   "metadata": {},
   "outputs": [],
   "source": []
  },
  {
   "cell_type": "code",
   "execution_count": null,
   "id": "e28d7956",
   "metadata": {},
   "outputs": [],
   "source": []
  },
  {
   "cell_type": "code",
   "execution_count": null,
   "id": "587a2f11",
   "metadata": {},
   "outputs": [],
   "source": []
  },
  {
   "cell_type": "markdown",
   "id": "b424595d",
   "metadata": {},
   "source": [
    "To get a description of a table (SQLite specific)\n",
    "\n",
    "```SQL\n",
    "PRAGMA table_info(officers)\n",
    "```"
   ]
  },
  {
   "cell_type": "code",
   "execution_count": null,
   "id": "a6ff2c13",
   "metadata": {},
   "outputs": [],
   "source": []
  },
  {
   "cell_type": "code",
   "execution_count": null,
   "id": "d80313b9",
   "metadata": {},
   "outputs": [],
   "source": []
  },
  {
   "cell_type": "markdown",
   "id": "b9cc3c8c",
   "metadata": {},
   "source": [
    "### SQL syntax\n",
    "Get all data from table\n",
    "```SQL\n",
    "SELECT * FROM table_name\n",
    "```\n",
    "\n",
    "Limit the response\n",
    "```SQL\n",
    "SELECT * FROM table_name LIMIT 100\n",
    "```\n",
    "\n",
    "Filter data\n",
    "```SQL\n",
    "SELECT * FROM table_name WHERE column_name > 1\n",
    "```"
   ]
  },
  {
   "cell_type": "markdown",
   "id": "9a25d394",
   "metadata": {},
   "source": [
    "### Import data into DataFrame\n",
    "Example of how to read data into a DataFrame from a SQL statement\n",
    "```Python\n",
    "import pandas as pd\n",
    "\n",
    "officers = pd.read_sql('SELECT * FROM officers', conn)\n",
    "```"
   ]
  },
  {
   "cell_type": "code",
   "execution_count": null,
   "id": "13811394",
   "metadata": {},
   "outputs": [],
   "source": []
  },
  {
   "cell_type": "code",
   "execution_count": null,
   "id": "6f3f663f",
   "metadata": {},
   "outputs": [],
   "source": []
  },
  {
   "cell_type": "code",
   "execution_count": null,
   "id": "b571b38a",
   "metadata": {},
   "outputs": [],
   "source": []
  },
  {
   "cell_type": "markdown",
   "id": "1119602f",
   "metadata": {},
   "source": [
    "### SQL join syntax\n",
    "`(INNER) JOIN`: returns records that have matching values in both tables\n",
    "```SQL\n",
    "SELECT * FROM table_1 JOIN table_2 ON table_1.column_name_1=table_2.column_name_2\n",
    "```\n",
    "\n",
    "`LEFT JOIN`: returns all records from the left table, and the matched records from the right table\n",
    "```SQL\n",
    "SELECT * FROM table_1 LEFT JOIN table_2 ON table_1.column_name_1=table_2.column_name_2\n",
    "```"
   ]
  },
  {
   "cell_type": "code",
   "execution_count": null,
   "id": "53a06d35",
   "metadata": {},
   "outputs": [],
   "source": []
  },
  {
   "cell_type": "code",
   "execution_count": null,
   "id": "2981b9b9",
   "metadata": {},
   "outputs": [],
   "source": []
  },
  {
   "cell_type": "code",
   "execution_count": null,
   "id": "98af123c",
   "metadata": {},
   "outputs": [],
   "source": []
  },
  {
   "cell_type": "code",
   "execution_count": null,
   "id": "f0388d96",
   "metadata": {},
   "outputs": [],
   "source": []
  },
  {
   "cell_type": "code",
   "execution_count": null,
   "id": "2ab7ff83",
   "metadata": {},
   "outputs": [],
   "source": []
  },
  {
   "cell_type": "code",
   "execution_count": null,
   "id": "c51c462b",
   "metadata": {},
   "outputs": [],
   "source": []
  },
  {
   "cell_type": "code",
   "execution_count": null,
   "id": "067be7e7",
   "metadata": {},
   "outputs": [],
   "source": []
  }
 ],
 "metadata": {
  "kernelspec": {
   "display_name": "Python 3 (ipykernel)",
   "language": "python",
   "name": "python3"
  },
  "language_info": {
   "codemirror_mode": {
    "name": "ipython",
    "version": 3
   },
   "file_extension": ".py",
   "mimetype": "text/x-python",
   "name": "python",
   "nbconvert_exporter": "python",
   "pygments_lexer": "ipython3",
   "version": "3.8.8"
  }
 },
 "nbformat": 4,
 "nbformat_minor": 5
}
