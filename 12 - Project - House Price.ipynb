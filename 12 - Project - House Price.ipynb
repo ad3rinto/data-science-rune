{
 "cells": [
  {
   "cell_type": "markdown",
   "id": "39c877c9",
   "metadata": {},
   "source": [
    "# Project - Parameters with Highest Impact on House Prices"
   ]
  },
  {
   "cell_type": "markdown",
   "id": "26869a35",
   "metadata": {},
   "source": [
    "![Data Science Workflow](img/ds-workflow.png)"
   ]
  },
  {
   "cell_type": "markdown",
   "id": "b92a93e8",
   "metadata": {},
   "source": [
    "## Goal of Project\n",
    "- A real estate dealer wants to figure out what matters most when selling a house\n",
    "- They provide various sales data\n",
    "- Your job is to figure out which 10 parameters (features) matter the most and present the findings"
   ]
  },
  {
   "cell_type": "markdown",
   "id": "77f362c4",
   "metadata": {},
   "source": [
    "## Step 1: Acquire\n",
    "- Explore problem\n",
    "- Identify data\n",
    "- Import data"
   ]
  },
  {
   "cell_type": "markdown",
   "id": "6f8cbbcb",
   "metadata": {},
   "source": [
    "### Step 1.a: Import libraries\n",
    "- Execute the cell below (SHIFT + ENTER)\n",
    "- NOTE: You might need to install mlxtend, if so, run the following in a cell\n",
    "```\n",
    "!pip install mlxtend\n",
    "```"
   ]
  },
  {
   "cell_type": "code",
   "execution_count": null,
   "id": "4af6ae32",
   "metadata": {},
   "outputs": [],
   "source": []
  },
  {
   "cell_type": "markdown",
   "id": "b5f9a799",
   "metadata": {},
   "source": [
    "### Step 1.b: Read the data\n",
    "- Use ```pd.read_parquet()``` to read the file `files/house_sales.parquet`\n",
    "- NOTE: Remember to assign the result to a variable (e.g., ```data```)\n",
    "- Apply ```.head()``` on the data to see all is as expected\n",
    "    - The target is `SalePrice`"
   ]
  },
  {
   "cell_type": "code",
   "execution_count": null,
   "id": "3b3ba927",
   "metadata": {},
   "outputs": [],
   "source": []
  },
  {
   "cell_type": "code",
   "execution_count": null,
   "id": "e88ab2de",
   "metadata": {},
   "outputs": [],
   "source": []
  },
  {
   "cell_type": "markdown",
   "id": "a2377dd7",
   "metadata": {},
   "source": [
    "### Step 1.c: Inspect the data\n",
    "- Check the number of rows and columns\n",
    "    - HINT: `.shape`"
   ]
  },
  {
   "cell_type": "code",
   "execution_count": null,
   "id": "9eed8d0f",
   "metadata": {},
   "outputs": [],
   "source": []
  },
  {
   "cell_type": "markdown",
   "id": "3bec949d",
   "metadata": {},
   "source": [
    "## Step 2: Prepare\n",
    "- Explore data\n",
    "- Visualize ideas\n",
    "- Cleaning data"
   ]
  },
  {
   "cell_type": "markdown",
   "id": "6a5d948d",
   "metadata": {},
   "source": [
    "### Step 2.a: Check the data types\n",
    "- This step tells you if some numeric column is not represented numeric.\n",
    "- Get the data types by ```.dtypes```"
   ]
  },
  {
   "cell_type": "code",
   "execution_count": null,
   "id": "58fcabb3",
   "metadata": {},
   "outputs": [],
   "source": []
  },
  {
   "cell_type": "markdown",
   "id": "2867789a",
   "metadata": {},
   "source": [
    "### Step 2.b: Check for null (missing) values\n",
    "- Let's check if any features are not valuable\n",
    "- Use ```.info()```\n",
    "- Should we remove any?\n",
    "    - You can remove features (columns):\n",
    "    ```Python\n",
    "data.drop([<column_name>, ..., <column_name>], axis=1)\n",
    "```\n",
    "- If you keep some with missing value you can add -1 `fillna(-1)`\n",
    "    - Notice: This is not a validated or good approach - but for this purpose it will do"
   ]
  },
  {
   "cell_type": "code",
   "execution_count": null,
   "id": "cf20f700",
   "metadata": {},
   "outputs": [],
   "source": []
  },
  {
   "cell_type": "code",
   "execution_count": null,
   "id": "97d6d153",
   "metadata": {},
   "outputs": [],
   "source": []
  },
  {
   "cell_type": "code",
   "execution_count": null,
   "id": "8f032afe",
   "metadata": {},
   "outputs": [],
   "source": []
  },
  {
   "cell_type": "markdown",
   "id": "8cc1cabe",
   "metadata": {},
   "source": [
    "## Step 3: Analyze\n",
    "- Feature selection\n",
    "- Model selection\n",
    "- Analyze data"
   ]
  },
  {
   "cell_type": "markdown",
   "id": "c8af8818",
   "metadata": {},
   "source": [
    "### Step 3.a: Quasi constant features\n",
    "- Let see if there are any quasi features\n",
    "- Create a `VarianceThreshold(threshold=0.01)` and fit it\n",
    "- The features that are not quasi constant are given by `sel.get_feature_names_out()`\n",
    "- Get all the qausi features as with list comprehension"
   ]
  },
  {
   "cell_type": "code",
   "execution_count": null,
   "id": "71de06b0",
   "metadata": {},
   "outputs": [],
   "source": []
  },
  {
   "cell_type": "code",
   "execution_count": null,
   "id": "5acc7765",
   "metadata": {},
   "outputs": [],
   "source": []
  },
  {
   "cell_type": "code",
   "execution_count": null,
   "id": "b3222c43",
   "metadata": {},
   "outputs": [],
   "source": []
  },
  {
   "cell_type": "code",
   "execution_count": null,
   "id": "ff989e42",
   "metadata": {},
   "outputs": [],
   "source": []
  },
  {
   "cell_type": "markdown",
   "id": "fe205474",
   "metadata": {},
   "source": [
    "### Step 3.b: Correlated features\n",
    "- Calculate the correlation matrix `corr_matrix` and inspect it\n",
    "    - HINT: use `.corr()`\n",
    "- Get all the correlated features\n",
    "    - HINT: A feature is correlated to a feature before it if\n",
    "```Python\n",
    "(corr_matrix[feature].iloc[:corr_matrix.columns.get_loc(feature)] > 0.8).any()\n",
    "```\n",
    "    - HINT: Use list comprehension to get a list of the correlated features"
   ]
  },
  {
   "cell_type": "code",
   "execution_count": null,
   "id": "a937c402",
   "metadata": {},
   "outputs": [],
   "source": []
  },
  {
   "cell_type": "code",
   "execution_count": null,
   "id": "406cbddb",
   "metadata": {},
   "outputs": [],
   "source": []
  },
  {
   "cell_type": "code",
   "execution_count": null,
   "id": "5c48a1f7",
   "metadata": {},
   "outputs": [],
   "source": []
  },
  {
   "cell_type": "markdown",
   "id": "afea2cf1",
   "metadata": {},
   "source": [
    "### Step 3.c: Prepare training and test set\n",
    "- Assign all features in `X`\n",
    "    - HINT: Use `.drop(['SalePrice'] + quasi_features + corr_features, axis=1)`\n",
    "        - (assuming the same naming)\n",
    "- Assign the target to `y`\n",
    "    - HINT: The target is column `SalePrice`\n",
    "- Split into train and test using `train_test_split`"
   ]
  },
  {
   "cell_type": "code",
   "execution_count": null,
   "id": "9d8151bb",
   "metadata": {},
   "outputs": [],
   "source": []
  },
  {
   "cell_type": "code",
   "execution_count": null,
   "id": "7e39c769",
   "metadata": {},
   "outputs": [],
   "source": []
  },
  {
   "cell_type": "markdown",
   "id": "5882ae37",
   "metadata": {},
   "source": [
    "### Step 3.d: 10 best features for LinearRegression model\n",
    "- Use the `SFS` to find 10 best features for a `LinearRegression` model\n",
    "    - HINT: `SFS(LinearRegression(), k_features=10, verbose=2)`\n",
    "    - HINT: when fitting fill missing values or remove them\n",
    "        - Notice: ideally we would investigate them further to find appropriate values\n",
    "- You get the best feature index from `.k_feature_idx_`"
   ]
  },
  {
   "cell_type": "code",
   "execution_count": null,
   "id": "53d96de9",
   "metadata": {},
   "outputs": [],
   "source": []
  },
  {
   "cell_type": "code",
   "execution_count": null,
   "id": "dce0d868",
   "metadata": {},
   "outputs": [],
   "source": []
  },
  {
   "cell_type": "code",
   "execution_count": null,
   "id": "083a4f02",
   "metadata": {},
   "outputs": [],
   "source": []
  },
  {
   "cell_type": "markdown",
   "id": "861f96ea",
   "metadata": {},
   "source": [
    "### Step 3.e: Test the result\n",
    "- Create a normal `LinearRegression` model and run it on full data and calculate the r2_score\n",
    "- Then do the same for only the 10 best features\n",
    "- Did the score surprice you?\n",
    "    - Notice that the test score is far from as good as from `SFS`"
   ]
  },
  {
   "cell_type": "code",
   "execution_count": null,
   "id": "13ec0744",
   "metadata": {},
   "outputs": [],
   "source": []
  },
  {
   "cell_type": "code",
   "execution_count": null,
   "id": "d18f4e00",
   "metadata": {},
   "outputs": [],
   "source": []
  },
  {
   "cell_type": "code",
   "execution_count": null,
   "id": "b716b634",
   "metadata": {},
   "outputs": [],
   "source": []
  },
  {
   "cell_type": "markdown",
   "id": "494a6bb3",
   "metadata": {},
   "source": [
    "### Step 3.f: Test with 10 highest correlated features\n",
    "- Find the 10 highest correlated features\n",
    "    - HITN: `corr_matrix['SalePrice'].sort_values(ascending=False)`\n",
    "- Then calculate the `r2_score` for them.\n",
    "- Does the score surprice you?"
   ]
  },
  {
   "cell_type": "code",
   "execution_count": null,
   "id": "a8754c36",
   "metadata": {},
   "outputs": [],
   "source": []
  },
  {
   "cell_type": "code",
   "execution_count": null,
   "id": "52395c06",
   "metadata": {},
   "outputs": [],
   "source": []
  },
  {
   "cell_type": "markdown",
   "id": "98a71ee2",
   "metadata": {},
   "source": [
    "## Step 4: Report\n",
    "- Present findings\n",
    "- Visualize results\n",
    "- Credibility counts"
   ]
  },
  {
   "cell_type": "markdown",
   "id": "117dbfe5",
   "metadata": {},
   "source": [
    "### Step 4.a: Present findings\n",
    "- Use the analysis from Step 3 to figures out how to present your findings\n",
    "- Try to think how the real estate dealer can use these findings"
   ]
  },
  {
   "cell_type": "code",
   "execution_count": null,
   "id": "34d20295",
   "metadata": {},
   "outputs": [],
   "source": []
  },
  {
   "cell_type": "code",
   "execution_count": null,
   "id": "a3474705",
   "metadata": {},
   "outputs": [],
   "source": []
  },
  {
   "cell_type": "markdown",
   "id": "65c865f1",
   "metadata": {},
   "source": [
    "## Step 5: Actions\n",
    "- Use insights\n",
    "- Measure impact\n",
    "- Main goal"
   ]
  },
  {
   "cell_type": "markdown",
   "id": "19018bc3",
   "metadata": {},
   "source": [
    "### Step 5.a: Measure impact\n",
    "- Can we help the dealer to use these insights?"
   ]
  },
  {
   "cell_type": "code",
   "execution_count": null,
   "id": "eb02ee29",
   "metadata": {},
   "outputs": [],
   "source": []
  },
  {
   "cell_type": "code",
   "execution_count": null,
   "id": "785e0600",
   "metadata": {},
   "outputs": [],
   "source": []
  }
 ],
 "metadata": {
  "kernelspec": {
   "display_name": "Python 3 (ipykernel)",
   "language": "python",
   "name": "python3"
  },
  "language_info": {
   "codemirror_mode": {
    "name": "ipython",
    "version": 3
   },
   "file_extension": ".py",
   "mimetype": "text/x-python",
   "name": "python",
   "nbconvert_exporter": "python",
   "pygments_lexer": "ipython3",
   "version": "3.9.12"
  }
 },
 "nbformat": 4,
 "nbformat_minor": 5
}
