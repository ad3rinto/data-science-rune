{
 "cells": [
  {
   "cell_type": "markdown",
   "id": "64478004",
   "metadata": {},
   "source": [
    "# Cleaning Data: Missing Data and Dealing with Outliers"
   ]
  },
  {
   "cell_type": "markdown",
   "id": "05aeeb70",
   "metadata": {},
   "source": [
    "![Data Science Workflow](img/ds-workflow.png)"
   ]
  },
  {
   "cell_type": "markdown",
   "id": "ec236b66",
   "metadata": {},
   "source": [
    "## Cleaning Data\n",
    "- Understand the **data quality**\n",
    "- **Improve** the quality (if possible)\n",
    "- Dealing with **missing data** (both rows in single entries)\n",
    "    - Examples include \n",
    "        - **Replacing** missing values/entries with mean values\n",
    "        - **Interpolation** of values (in time series)\n",
    "- Dealing with **data outliers**\n",
    "    - Examples include \n",
    "        - Default missing values in system: sometimes as 0-values\n",
    "        - Wrong values\n",
    "- Removing **duplicates**\n",
    "    - Common problem to have duplicate entries\n",
    "- Process requires **domain knowledge**"
   ]
  },
  {
   "cell_type": "markdown",
   "id": "2ba9ae3d",
   "metadata": {},
   "source": [
    "## Missing Data\n",
    "- Missing data is sometimes refered to as **NA** values in pandas.\n",
    "- A great source to learn about is [here](https://pandas.pydata.org/pandas-docs/stable/user_guide/missing_data.html)\n",
    "\n",
    "\n",
    "- Two types of missing data we consider\n",
    "    1. NaN data\n",
    "    2. Rows in time series data\n",
    "\n",
    "Examples"
   ]
  },
  {
   "cell_type": "code",
   "execution_count": null,
   "id": "21d3fdbe",
   "metadata": {},
   "outputs": [],
   "source": []
  },
  {
   "cell_type": "code",
   "execution_count": null,
   "id": "3f4d17a6",
   "metadata": {},
   "outputs": [],
   "source": []
  },
  {
   "cell_type": "code",
   "execution_count": null,
   "id": "cf5bc0c3",
   "metadata": {},
   "outputs": [],
   "source": []
  },
  {
   "cell_type": "markdown",
   "id": "53d06bdf",
   "metadata": {},
   "source": [
    "## Outliers\n",
    "- Requires domain knowledge\n",
    "- But typical examples could include"
   ]
  },
  {
   "cell_type": "code",
   "execution_count": null,
   "id": "8e2583d8",
   "metadata": {},
   "outputs": [],
   "source": []
  },
  {
   "cell_type": "markdown",
   "id": "3100bc09",
   "metadata": {},
   "source": [
    "## Demonstration how it affects results\n",
    "- [Housing Prices Competition for Kaggle Learn Users](https://www.kaggle.com/c/home-data-for-ml-course/overview)\n",
    "- The dataset contains a training and testing dataset.\n",
    "    - The goal is to predict prices on the testing dataset.\n",
    "- We will explore how dealing with missing values impacts the prediction of a linear regression model"
   ]
  },
  {
   "cell_type": "code",
   "execution_count": null,
   "id": "68e52269",
   "metadata": {},
   "outputs": [],
   "source": []
  },
  {
   "cell_type": "code",
   "execution_count": null,
   "id": "56ca961c",
   "metadata": {},
   "outputs": [],
   "source": []
  },
  {
   "cell_type": "code",
   "execution_count": null,
   "id": "912e4b37",
   "metadata": {},
   "outputs": [],
   "source": []
  },
  {
   "cell_type": "markdown",
   "id": "53dd5cff",
   "metadata": {},
   "source": [
    "### Remove non-numeric for this demonstration\n",
    "```Python\n",
    "data = data.select_dtypes(include='number')\n",
    "```\n",
    "\n",
    "Then we check of missing values.\n",
    "```Python\n",
    "data.info()\n",
    "```"
   ]
  },
  {
   "cell_type": "code",
   "execution_count": null,
   "id": "ea0c4377",
   "metadata": {},
   "outputs": [],
   "source": []
  },
  {
   "cell_type": "code",
   "execution_count": null,
   "id": "922b6059",
   "metadata": {},
   "outputs": [],
   "source": []
  },
  {
   "cell_type": "code",
   "execution_count": null,
   "id": "c1655094",
   "metadata": {},
   "outputs": [],
   "source": []
  },
  {
   "cell_type": "code",
   "execution_count": null,
   "id": "0f51b0ba",
   "metadata": {},
   "outputs": [],
   "source": []
  },
  {
   "cell_type": "markdown",
   "id": "52c2675e",
   "metadata": {},
   "source": [
    "### Helper function\n",
    "- Implement a helper function to calculate the r-square score\n",
    "- It should take independent features `X` and dependent feature `y`\n",
    "- Then split that into training and testing sets.\n",
    "- Fit the training set.\n",
    "- Predict the test set.\n",
    "- Return the r-square score"
   ]
  },
  {
   "cell_type": "code",
   "execution_count": null,
   "id": "28ec6df6",
   "metadata": {},
   "outputs": [],
   "source": []
  },
  {
   "cell_type": "markdown",
   "id": "570d38df",
   "metadata": {},
   "source": [
    "### Calculations\n",
    "- Try first to calcualte the r-square by using `data.dropna()`\n",
    "    - This serves as the ussual way we have done it\n",
    "- Then with `data.fillna(data.mean())`\n",
    "    - [`fillna()`](https://pandas.pydata.org/pandas-docs/dev/reference/api/pandas.DataFrame.fillna.html) Fill NA/NaN values using the specified method.\n",
    "- Then with `data.fillna(data.mode().iloc[0])`"
   ]
  },
  {
   "cell_type": "code",
   "execution_count": null,
   "id": "741a2c33",
   "metadata": {},
   "outputs": [],
   "source": []
  },
  {
   "cell_type": "code",
   "execution_count": null,
   "id": "970d8006",
   "metadata": {},
   "outputs": [],
   "source": []
  },
  {
   "cell_type": "code",
   "execution_count": null,
   "id": "5c2c664c",
   "metadata": {},
   "outputs": [],
   "source": []
  },
  {
   "cell_type": "code",
   "execution_count": null,
   "id": "51c6ea08",
   "metadata": {},
   "outputs": [],
   "source": []
  },
  {
   "cell_type": "markdown",
   "id": "95445f9f",
   "metadata": {},
   "source": [
    "## Time series\n",
    "- Now let's explore a time series: `files/weather.parquet`\n"
   ]
  },
  {
   "cell_type": "code",
   "execution_count": null,
   "id": "528a57c7",
   "metadata": {},
   "outputs": [],
   "source": []
  },
  {
   "cell_type": "markdown",
   "id": "5d63e25a",
   "metadata": {},
   "source": [
    "### Missing time series rows\n",
    "- One way to find missing rows of data in a time series is as follows\n",
    "```Python\n",
    "idx = pd.Series(data=pd.date_range(start=df.index.min(), end=df.index.max(), freq=\"H\"))\n",
    "mask = idx.isin(df.index)\n",
    "idx[~mask]\n",
    "```"
   ]
  },
  {
   "cell_type": "code",
   "execution_count": null,
   "id": "391c1ae4",
   "metadata": {},
   "outputs": [],
   "source": []
  },
  {
   "cell_type": "code",
   "execution_count": null,
   "id": "074d8299",
   "metadata": {},
   "outputs": [],
   "source": []
  },
  {
   "cell_type": "code",
   "execution_count": null,
   "id": "984e50f5",
   "metadata": {},
   "outputs": [],
   "source": []
  },
  {
   "cell_type": "code",
   "execution_count": null,
   "id": "ebedfe50",
   "metadata": {},
   "outputs": [],
   "source": []
  },
  {
   "cell_type": "markdown",
   "id": "903bfa1e",
   "metadata": {},
   "source": [
    "### Insert missing datetimess and interpolate them\n",
    "- To insert missing datetimes we can use [`reindex()`](https://pandas.pydata.org/docs/reference/api/pandas.DataFrame.reindex.html)\n",
    "- To interploate values that are missing [`interpolate`](https://pandas.pydata.org/docs/reference/api/pandas.DataFrame.interpolate.html)"
   ]
  },
  {
   "cell_type": "code",
   "execution_count": null,
   "id": "b29a558c",
   "metadata": {},
   "outputs": [],
   "source": []
  },
  {
   "cell_type": "code",
   "execution_count": null,
   "id": "4d680b0b",
   "metadata": {},
   "outputs": [],
   "source": []
  },
  {
   "cell_type": "code",
   "execution_count": null,
   "id": "5448bae5",
   "metadata": {},
   "outputs": [],
   "source": []
  },
  {
   "cell_type": "markdown",
   "id": "5d0cb1c2",
   "metadata": {},
   "source": [
    "## Outliers\n",
    "- If we focus on `Pressure (millibars)` for `2006'\n",
    "- One way to handle 0-values is with [`replace()`](https://pandas.pydata.org/docs/reference/api/pandas.DataFrame.replace.html)\n",
    "```Python\n",
    ".replace(0, np.nan)\n",
    "```\n",
    "- Then we can apply `interploate()`"
   ]
  },
  {
   "cell_type": "code",
   "execution_count": null,
   "id": "70e08bff",
   "metadata": {},
   "outputs": [],
   "source": []
  },
  {
   "cell_type": "code",
   "execution_count": null,
   "id": "bce31280",
   "metadata": {},
   "outputs": [],
   "source": []
  },
  {
   "cell_type": "code",
   "execution_count": null,
   "id": "de9c53c4",
   "metadata": {},
   "outputs": [],
   "source": []
  },
  {
   "cell_type": "code",
   "execution_count": null,
   "id": "40510e4a",
   "metadata": {},
   "outputs": [],
   "source": []
  },
  {
   "cell_type": "code",
   "execution_count": null,
   "id": "8d803f05",
   "metadata": {},
   "outputs": [],
   "source": []
  },
  {
   "cell_type": "code",
   "execution_count": null,
   "id": "645cf4b9",
   "metadata": {},
   "outputs": [],
   "source": []
  },
  {
   "cell_type": "markdown",
   "id": "5b897f0b",
   "metadata": {},
   "source": [
    "### Removing Duplicates\n",
    "- [`drop_duplicates()`](https://pandas.pydata.org/docs/reference/api/pandas.DataFrame.drop_duplicates.html) Return DataFrame with duplicate rows removed."
   ]
  },
  {
   "cell_type": "code",
   "execution_count": null,
   "id": "2137187f",
   "metadata": {},
   "outputs": [],
   "source": []
  },
  {
   "cell_type": "code",
   "execution_count": null,
   "id": "89879eb9",
   "metadata": {},
   "outputs": [],
   "source": []
  },
  {
   "cell_type": "code",
   "execution_count": null,
   "id": "ee202311",
   "metadata": {},
   "outputs": [],
   "source": []
  }
 ],
 "metadata": {
  "kernelspec": {
   "display_name": "Python 3 (ipykernel)",
   "language": "python",
   "name": "python3"
  },
  "language_info": {
   "codemirror_mode": {
    "name": "ipython",
    "version": 3
   },
   "file_extension": ".py",
   "mimetype": "text/x-python",
   "name": "python",
   "nbconvert_exporter": "python",
   "pygments_lexer": "ipython3",
   "version": "3.8.8"
  }
 },
 "nbformat": 4,
 "nbformat_minor": 5
}
